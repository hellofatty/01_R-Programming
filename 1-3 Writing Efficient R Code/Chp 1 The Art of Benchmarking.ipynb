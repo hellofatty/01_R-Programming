{
 "cells": [
  {
   "cell_type": "markdown",
   "metadata": {},
   "source": [
    "## R version\n",
    "One of the relatively easy optimizations available is to use an up-to-date version of R. In general, R is very conservative, so upgrading doesn't break existing code. However, a new version will often provide free speed boosts for key functions.\n",
    "\n",
    "The version command returns a list that contains (among other things) the major and minor version of R currently being used."
   ]
  },
  {
   "cell_type": "markdown",
   "metadata": {},
   "source": [
    "- Print the version details of R using version. (It's not a function.)\n",
    "- Use dollar indexing (`$`) to extract the major component of version and assign it to the variable `major`.\n",
    "- Likewise, extract the minor component and assign it to the variable `minor`."
   ]
  },
  {
   "cell_type": "code",
   "execution_count": 1,
   "metadata": {},
   "outputs": [
    {
     "name": "stdout",
     "output_type": "stream",
     "text": [
      "               _                           \n",
      "platform       x86_64-w64-mingw32          \n",
      "arch           x86_64                      \n",
      "os             mingw32                     \n",
      "system         x86_64, mingw32             \n",
      "status                                     \n",
      "major          3                           \n",
      "minor          6.1                         \n",
      "year           2019                        \n",
      "month          07                          \n",
      "day            05                          \n",
      "svn rev        76782                       \n",
      "language       R                           \n",
      "version.string R version 3.6.1 (2019-07-05)\n",
      "nickname       Action of the Toes          \n"
     ]
    }
   ],
   "source": [
    "print(version)"
   ]
  },
  {
   "cell_type": "code",
   "execution_count": 2,
   "metadata": {},
   "outputs": [
    {
     "name": "stdout",
     "output_type": "stream",
     "text": [
      "[1] \"3\"\n",
      "[1] \"6.1\"\n"
     ]
    }
   ],
   "source": [
    "# Assign the variable major to the major component\n",
    "major <- version$major\n",
    "print(major)\n",
    "# Assign the variable minor to the minor component\n",
    "minor <- version$minor\n",
    "print(minor)"
   ]
  },
  {
   "cell_type": "markdown",
   "metadata": {},
   "source": [
    "## Comparing read times of CSV and RDS files\n",
    "\n",
    "One of the most common tasks we perform is reading in data from CSV files. However, for large CSV files this can be slow. One neat trick is to read in the data and save as an R binary file (rds) using `saveRDS()`. To read in the rds file, we use `readRDS()`.\n",
    "\n",
    "Note: Since rds is R's native format for storing single objects, you have not introduced any third-party dependencies that may change in the future.\n",
    "\n",
    "To benchmark the two approaches, you can use `system.time()`. This function returns the time taken to evaluate any R expression. For example, to time how long it takes to calculate the square root of the numbers from one to ten million, you would write the following:\n",
    "\n",
    "> `system.time(sqrt(1:1e7))`"
   ]
  },
  {
   "cell_type": "markdown",
   "metadata": {},
   "source": [
    "The files \"movies.csv\" and \"movies.rds\" both contain identical data frames with information on 45,000 movies.\n",
    "\n",
    "- Using the system.time() function, how long does it take to read in the CSV file using `read.csv(\"movies.csv\")`.\n",
    "- Repeat for the rds file, \"movies.rds\" using `readRDS()`."
   ]
  },
  {
   "cell_type": "code",
   "execution_count": 20,
   "metadata": {},
   "outputs": [
    {
     "data": {
      "text/plain": [
       "   user  system elapsed \n",
       "   0.52    0.03    0.57 "
      ]
     },
     "metadata": {},
     "output_type": "display_data"
    }
   ],
   "source": [
    "# How long does it take to read movies from CSV?\n",
    "system.time(read.csv(\"movies.csv\"))\n",
    "\n"
   ]
  },
  {
   "cell_type": "code",
   "execution_count": 13,
   "metadata": {},
   "outputs": [
    {
     "data": {
      "text/plain": [
       "   user  system elapsed \n",
       "   0.06    0.00    0.06 "
      ]
     },
     "metadata": {},
     "output_type": "display_data"
    }
   ],
   "source": [
    "# How long does it take to read movies from RDS?\n",
    "system.time(readRDS('movies.rds'))"
   ]
  },
  {
   "cell_type": "code",
   "execution_count": 5,
   "metadata": {},
   "outputs": [],
   "source": [
    "?read.csv\n"
   ]
  },
  {
   "cell_type": "code",
   "execution_count": 9,
   "metadata": {},
   "outputs": [],
   "source": [
    "?saveRDS"
   ]
  },
  {
   "cell_type": "code",
   "execution_count": 12,
   "metadata": {},
   "outputs": [],
   "source": [
    "?system.time"
   ]
  },
  {
   "cell_type": "markdown",
   "metadata": {},
   "source": [
    "## Operational differences: \"<-\" and \"=\"\n",
    "There are a number of ways to assign variables to objects. The two standard ways are to use the = or <- operators. Which of the following statements is true?"
   ]
  },
  {
   "cell_type": "markdown",
   "metadata": {},
   "source": [
    "**Possible Answers**\n",
    "- () The operators are identical.\n",
    "- () The operators have the same precedence.\n",
    "- (x) Using the <- operator inside a function call will create a new (or overwrite an existing) object."
   ]
  },
  {
   "cell_type": "markdown",
   "metadata": {},
   "source": [
    "## Elapsed time\n",
    "Using `system.time()` is convenient, but it does have its drawbacks when comparing multiple function calls. The `microbenchmark` package solves this problem with the `microbenchmark()` function."
   ]
  },
  {
   "cell_type": "markdown",
   "metadata": {},
   "source": [
    "The \"movies.csv\" and \"movies.rds\" files are available in your workspace.\n",
    "\n",
    "- Load the microbenchmark package using the library() function.\n",
    "- Using microbenchmark(), read.csv(), and readRDS(), compare the time it takes to import the CSV file with the time it takes to - import the RDS file. Store the result as a variable called compare.\n",
    "- In your call to microbenchmark(), specify times = 10 to call each function 10 times.\n",
    "- Print compare to see the results."
   ]
  },
  {
   "cell_type": "code",
   "execution_count": 22,
   "metadata": {},
   "outputs": [
    {
     "name": "stderr",
     "output_type": "stream",
     "text": [
      "Installing package into 'C:/Users/Admin/Documents/R/win-library/3.6'\n",
      "(as 'lib' is unspecified)\n"
     ]
    },
    {
     "name": "stdout",
     "output_type": "stream",
     "text": [
      "package 'microbenchmark' successfully unpacked and MD5 sums checked\n",
      "\n",
      "The downloaded binary packages are in\n",
      "\tC:\\Users\\Admin\\AppData\\Local\\Temp\\RtmpEfGn8F\\downloaded_packages\n"
     ]
    }
   ],
   "source": [
    "install.packages(\"microbenchmark\")"
   ]
  },
  {
   "cell_type": "code",
   "execution_count": 23,
   "metadata": {},
   "outputs": [
    {
     "name": "stderr",
     "output_type": "stream",
     "text": [
      "Warning message:\n",
      "\"package 'microbenchmark' was built under R version 3.6.2\""
     ]
    },
    {
     "name": "stdout",
     "output_type": "stream",
     "text": [
      "Unit: milliseconds\n",
      "                   expr      min       lq      mean    median       uq      max\n",
      " read.csv(\"movies.csv\") 540.5316 581.2584 677.99609 653.19080 791.1752 850.8816\n",
      "  readRDS(\"movies.rds\")  65.8589  67.2407  78.87263  76.17165  82.6004 122.2619\n",
      " neval cld\n",
      "    10   b\n",
      "    10  a \n"
     ]
    }
   ],
   "source": [
    "# Load the microbenchmark package\n",
    "library(microbenchmark)\n",
    "\n",
    "# Compare the two functions\n",
    "compare <- microbenchmark(read.csv(\"movies.csv\"), \n",
    "                          readRDS(\"movies.rds\"), \n",
    "                          times = 10)\n",
    "\n",
    "# Print compare\n",
    "print(compare)"
   ]
  },
  {
   "cell_type": "markdown",
   "metadata": {},
   "source": [
    "Great work! The `microbenchmark()` function makes it easier to compare multiple function calls at once by compiling all the relevant information in a data frame. It does this by running each function call multiple times, recording the time it took for the function to run each time, then computing summary statistics for each expression as you can see here."
   ]
  },
  {
   "cell_type": "markdown",
   "metadata": {},
   "source": [
    "## Relative time\n",
    "When benchmarking it's important to consider both absolute and relative times. Using the timings below, on average a single call to read.csv() is 720 - 80 = 640 milliseconds slower than that of readRDS().\n",
    "\n",
    "`> microbenchmark(read.csv(\"movies.csv\"),\n",
    "                 readRDS(\"movies.rds\"),\n",
    "                 times = 10)`\n",
    "\n",
    "Unit: milliseconds\n",
    "                       expr  min  lq  mean  median   uq neval cld\n",
    "read.csv(\"movies.csv\")  540  660 680   720     720  740    10   b\n",
    " readRDS(\"movies.rds\")   70   80  90    80     100  110    10  a \n",
    "Approximately, how much slower is the mean time of read.csv() compared to readRDS()?"
   ]
  },
  {
   "cell_type": "markdown",
   "metadata": {},
   "source": [
    "**Possible Answers**\n",
    "- () 3 times slower.\n",
    "- () 6 times slower.\n",
    "- (x) 9 times slower."
   ]
  },
  {
   "cell_type": "code",
   "execution_count": 25,
   "metadata": {},
   "outputs": [
    {
     "name": "stderr",
     "output_type": "stream",
     "text": [
      "Installing package into 'C:/Users/Admin/Documents/R/win-library/3.6'\n",
      "(as 'lib' is unspecified)\n",
      "also installing the dependencies 'benchmarkmeData', 'doParallel'\n",
      "\n"
     ]
    },
    {
     "name": "stdout",
     "output_type": "stream",
     "text": [
      "package 'benchmarkmeData' successfully unpacked and MD5 sums checked\n",
      "package 'doParallel' successfully unpacked and MD5 sums checked\n",
      "package 'benchmarkme' successfully unpacked and MD5 sums checked\n",
      "\n",
      "The downloaded binary packages are in\n",
      "\tC:\\Users\\Admin\\AppData\\Local\\Temp\\RtmpEfGn8F\\downloaded_packages\n"
     ]
    }
   ],
   "source": [
    "install.packages(\"benchmarkme\")"
   ]
  },
  {
   "cell_type": "code",
   "execution_count": 26,
   "metadata": {},
   "outputs": [
    {
     "name": "stderr",
     "output_type": "stream",
     "text": [
      "Warning message:\n",
      "\"package 'benchmarkme' was built under R version 3.6.2\""
     ]
    },
    {
     "data": {
      "text/plain": [
       "NA B"
      ]
     },
     "metadata": {},
     "output_type": "display_data"
    }
   ],
   "source": [
    "# Load the benchmarkme package\n",
    "library(\"benchmarkme\")\n",
    "\n",
    "# Assign the variable ram to the amount of RAM on this machine\n",
    "ram <- get_ram()\n",
    "ram"
   ]
  },
  {
   "cell_type": "code",
   "execution_count": 27,
   "metadata": {},
   "outputs": [
    {
     "data": {
      "text/html": [
       "<dl>\n",
       "\t<dt>$vendor_id</dt>\n",
       "\t\t<dd>'GenuineIntel'</dd>\n",
       "\t<dt>$model_name</dt>\n",
       "\t\t<dd>'Intel(R) Core(TM) i7-2670QM CPU @ 2.20GHz'</dd>\n",
       "\t<dt>$no_of_cores</dt>\n",
       "\t\t<dd>8</dd>\n",
       "</dl>\n"
      ],
      "text/latex": [
       "\\begin{description}\n",
       "\\item[\\$vendor\\_id] 'GenuineIntel'\n",
       "\\item[\\$model\\_name] 'Intel(R) Core(TM) i7-2670QM CPU @ 2.20GHz'\n",
       "\\item[\\$no\\_of\\_cores] 8\n",
       "\\end{description}\n"
      ],
      "text/markdown": [
       "$vendor_id\n",
       ":   'GenuineIntel'\n",
       "$model_name\n",
       ":   'Intel(R) Core(TM) i7-2670QM CPU @ 2.20GHz'\n",
       "$no_of_cores\n",
       ":   8\n",
       "\n",
       "\n"
      ],
      "text/plain": [
       "$vendor_id\n",
       "[1] \"GenuineIntel\"\n",
       "\n",
       "$model_name\n",
       "[1] \"Intel(R) Core(TM) i7-2670QM CPU @ 2.20GHz\"\n",
       "\n",
       "$no_of_cores\n",
       "[1] 8\n"
      ]
     },
     "metadata": {},
     "output_type": "display_data"
    }
   ],
   "source": [
    "# Assign the variable cpu to the cpu specs\n",
    "cpu <- get_cpu()\n",
    "cpu"
   ]
  },
  {
   "cell_type": "markdown",
   "metadata": {},
   "source": [
    "## Benchmark DataCamp's machine\n",
    "The [benchmarkme](https://www.rdocumentation.org/packages/benchmarkme/versions/1.0.3) package allows you to run a set of standardized benchmarks and compare your results to other users. One set of benchmarks tests is reading and writing speeds.\n",
    "\n",
    "The function call\n",
    "\n",
    "> `res = benchmark_io(runs = 1, size = 5)`<br>\n",
    "> `records the length of time it takes to read and write a 5MB file.`"
   ]
  },
  {
   "cell_type": "markdown",
   "metadata": {},
   "source": [
    "**Instructions**\n",
    "\n",
    "- Find the time it takes to read and write a 5 MB file. Assign the result to `res`. (Do not attempt to read and write a 50 MB file. Your session on DataCamp may crash)\n",
    "- Compare DataCamp to other users via plot(res)."
   ]
  },
  {
   "cell_type": "code",
   "execution_count": 28,
   "metadata": {},
   "outputs": [
    {
     "name": "stderr",
     "output_type": "stream",
     "text": [
      "Preparing read/write io\n",
      "# IO benchmarks (2 tests) for size 5 MB:\n",
      "\t Writing a csv with 625000 values: 2.18 (sec).\n",
      "\t Reading a csv with 625000 values: 0.42 (sec).\n",
      "You are ranked 41 out of 47 machines.\n"
     ]
    },
    {
     "name": "stdout",
     "output_type": "stream",
     "text": [
      "Press return to get next plot \n"
     ]
    },
    {
     "name": "stderr",
     "output_type": "stream",
     "text": [
      "You are ranked 38 out of 47 machines.\n"
     ]
    },
    {
     "data": {
      "image/png": "[encoded data removed]",
      "text/plain": [
       "Plot with title \"Benchmark: write5\""
      ]
     },
     "metadata": {},
     "output_type": "display_data"
    },
    {
     "data": {
      "image/png": "[encoded data removed]",
      "text/plain": [
       "Plot with title \"Benchmark: read5\""
      ]
     },
     "metadata": {},
     "output_type": "display_data"
    }
   ],
   "source": [
    "# Run the io benchmark\n",
    "res <- benchmark_io(runs = 1, size = 5)\n",
    "?benchmark_io\n",
    "# Plot the results\n",
    "plot(res)"
   ]
  },
  {
   "cell_type": "code",
   "execution_count": null,
   "metadata": {},
   "outputs": [],
   "source": []
  }
 ],
 "metadata": {
  "kernelspec": {
   "display_name": "R",
   "language": "R",
   "name": "ir"
  },
  "language_info": {
   "codemirror_mode": "r",
   "file_extension": ".r",
   "mimetype": "text/x-r-source",
   "name": "R",
   "pygments_lexer": "r",
   "version": "3.6.1"
  }
 },
 "nbformat": 4,
 "nbformat_minor": 2
}
