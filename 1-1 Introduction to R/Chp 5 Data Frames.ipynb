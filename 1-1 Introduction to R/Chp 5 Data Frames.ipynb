{
  "cells": [
    {
      "metadata": {},
      "cell_type": "markdown",
      "source": "# Chp 5 Data frames\n\nMost datasets you will be working with will be stored as data frames. By the end of this chapter, you will be able to create a data frame, select interesting parts of a data frame, and order a data frame according to certain variables."
    },
    {
      "metadata": {},
      "cell_type": "markdown",
      "source": "<a id=\"top\"></a>\n### Table of Contents\n\n- [What's a data frame?](#5-1)\n- [Quick, have a look at your data set](#5-2)\n- [Have a look at the structure](#5-3)\n- [Creating a data frame](#5-4)\n- [Creating a data frame(2)](#5-5)\n- [Selection of data frame elements](#5-6)\n- [Selection of data frame elements(2)](#5-7)\n- [Only planets with rings](#5-8)\n- [Only planets with rings(2)](#5-9)\n- [Only planets with rings but shorter](#5-10)\n- [Sorting](#5-11)\n- [Sorting your data frame](#5-12)\n"
    },
    {
      "metadata": {},
      "cell_type": "markdown",
      "source": "<a id = \"5-1\"></a>\n## What's a data frame?\n\nYou may remember from the chapter about matrices that all the elements that you put in a matrix should be of the same type. Back then, your data set on Star Wars only contained numeric elements.\n\nWhen doing a market research survey, however, you often have questions such as:\n\n- 'Are you married?' or 'yes/no' questions (`logical`)\n- 'How old are you?' (`numeric`)\n- 'What is your opinion on this product?' or other 'open-ended' questions (`character`)\n- ...\n\nThe output, namely the respondents' answers to the questions formulated above, is a data set of different data types. You will often find yourself working with data sets that contain different data types instead of only one.\n\nA data frame has the variables of a data set as `columns` and the observations as `rows`. This will be a familiar concept for those coming from different statistical software packages such as SAS or SPSS.\n\nClick 'Submit Answer'. The data from the built-in example data frame [**mtcars**](https://www.rdocumentation.org/packages/datasets/versions/3.6.2/topics/mtcars) will be printed to the console.\n\n[Go Top](#top)"
    },
    {
      "metadata": {
        "trusted": true
      },
      "cell_type": "code",
      "source": "# Print out built-in R data frame\nmtcars ",
      "execution_count": null,
      "outputs": []
    },
    {
      "metadata": {},
      "cell_type": "markdown",
      "source": "<a id = \"5-2\"></a>\n## Quick, have a look at your data set\nWow, that is a lot of cars!\n\nWorking with large data sets is not uncommon in data analysis. When you work with (extremely) large data sets and data frames, your first task as a data analyst is to develop a clear understanding of its structure and main elements. Therefore, it is often useful to show only a small part of the entire data set.\n\nSo how to do this in R? Well, the function [**head()**](https://www.rdocumentation.org/packages/utils/versions/3.6.2/topics/head) enables you to show the first observations of a data frame. Similarly, the function [**tail()**](https://www.rdocumentation.org/packages/utils/versions/3.6.2/topics/head) prints out the last observations in your data set.\n\nBoth [**head()**](https://www.rdocumentation.org/packages/utils/versions/3.6.2/topics/head) and [**tail()**](https://www.rdocumentation.org/packages/utils/versions/3.6.2/topics/head) print a top line called the 'header', which contains the names of the different variables in your data set.\n\n**Instructions**\n\nCall [**head()**](https://www.rdocumentation.org/packages/utils/versions/3.6.2/topics/head) on the [**mtcars**](https://www.rdocumentation.org/packages/datasets/versions/3.6.2/topics/mtcars) data set to have a look at the header and the first observations.\n\n[Go Top](#top)"
    },
    {
      "metadata": {
        "trusted": true
      },
      "cell_type": "code",
      "source": "# Call head() on mtcars\nhead(mtcars)\ntail(mtcars)",
      "execution_count": null,
      "outputs": []
    },
    {
      "metadata": {
        "trusted": true
      },
      "cell_type": "code",
      "source": "?mtcars\n",
      "execution_count": null,
      "outputs": []
    },
    {
      "metadata": {},
      "cell_type": "markdown",
      "source": "<a id = \"5-3\"></a>\n## Have a look at the structure \n\nAnother method that is often used to get a rapid overview of your data is the function  [**str()**](https://www.rdocumentation.org/packages/utils/versions/3.6.2/topics/str). The function  [**str()**](https://www.rdocumentation.org/packages/utils/versions/3.6.2/topics/str) shows you the structure of your data set. For a data frame it tells you:\n\n- The total number of observations (e.g. `32` car types)\n- The total number of variables (e.g. `11` car features)\n- A full list of the variables names (e.g. `mpg`, `cyl` ... )\n- The data type of each variable (e.g. `num`)\n- The first observations\n\nApplying the [**str()**](https://www.rdocumentation.org/packages/utils/versions/3.6.2/topics/str) function will often be the first thing that you do when receiving a new data set or data frame. It is a great way to get more insight in your data set before diving into the real analysis.\n\n**Instructions**\nInvestigate the structure of mtcars. Make sure that you see the same numbers, variables and data types as mentioned above.\n\n[Go Top](#top)"
    },
    {
      "metadata": {
        "trusted": true
      },
      "cell_type": "code",
      "source": "# Investigate the structure of mtcars\nstr(mtcars)",
      "execution_count": null,
      "outputs": []
    },
    {
      "metadata": {},
      "cell_type": "markdown",
      "source": "<a id =\"5-4\"></a>\n## Creating a data frame\n\nSince using built-in data sets is not even half the fun of creating your own data sets, the rest of this chapter is based on your personally developed data set. Put your jet pack on because it is time for some space exploration!\n\nAs a first goal, you want to construct a data frame that describes the main characteristics of eight planets in our solar system. According to your good friend Buzz, the main features of a planet are:\n\n- The type of planet (Terrestrial or Gas Giant).\n- The planet's diameter relative to the diameter of the Earth.\n- The planet's rotation across the sun relative to that of the Earth.\n- If the planet has rings or not (TRUE or FALSE).\n\nAfter doing some high-quality research on Wikipedia, you feel confident enough to create the necessary vectors: `name`, `type`, `diameter`, `rotation` and `rings`; these vectors have already been coded up on the right. The first element in each of these vectors correspond to the first observation.\n\nYou construct a data frame with the [**data.frame()**](https://www.rdocumentation.org/packages/base/versions/3.6.2/topics/data.frame) function. As arguments, you pass the vectors from before: they will become the different columns of your data frame. Because every column has the same length, the vectors you pass should also have the same length. But don't forget that it is possible (and likely) that they contain different types of data.\n\n[Go Top](#top)"
    },
    {
      "metadata": {
        "trusted": true
      },
      "cell_type": "code",
      "source": "# Definition of vectors\nname <- c(\"Mercury\", \"Venus\", \"Earth\", \"Mars\", \"Jupiter\", \"Saturn\", \"Uranus\", \"Neptune\")\ntype <- c(\"Terrestrial planet\", \"Terrestrial planet\", \"Terrestrial planet\", \n          \"Terrestrial planet\", \"Gas giant\", \"Gas giant\", \"Gas giant\", \"Gas giant\")\ndiameter <- c(0.382, 0.949, 1, 0.532, 11.209, 9.449, 4.007, 3.883)\nrotation <- c(58.64, -243.02, 1, 1.03, 0.41, 0.43, -0.72, 0.67)\nrings <- c(FALSE, FALSE, FALSE, FALSE, TRUE, TRUE, TRUE, TRUE)\n\n# Create a data frame from the vectors\nplanets_df <- data.frame(name, type,diameter, rotation,rings)\nplanets_df",
      "execution_count": null,
      "outputs": []
    },
    {
      "metadata": {
        "trusted": true
      },
      "cell_type": "code",
      "source": "?data.frame",
      "execution_count": null,
      "outputs": []
    },
    {
      "metadata": {
        "trusted": true
      },
      "cell_type": "code",
      "source": "L3 <- LETTERS[1:3]\nfac <- sample(L3, 10, replace = TRUE)\n(d <- data.frame(x = 1, y = 1:10, fac = fac))",
      "execution_count": null,
      "outputs": []
    },
    {
      "metadata": {},
      "cell_type": "markdown",
      "source": "<a id =\"5-5\"></a>\n## Creating a data frame (2)\nThe `planets_df` data frame should have 8 observations and 5 variables. It has been made available in the workspace, so you can directly use it."
    },
    {
      "metadata": {
        "trusted": true
      },
      "cell_type": "code",
      "source": "# Check the structure of planets_df\nstr(planets_df)",
      "execution_count": null,
      "outputs": []
    },
    {
      "metadata": {},
      "cell_type": "markdown",
      "source": "<a id =\"5-6\"></a>\n## Selection of data frame elements\nSimilar to vectors and matrices, you select elements from a data frame with the help of square brackets `[ ]`. By using a comma, you can indicate what to select from the rows and the columns respectively. For example:\n\n- `my_df[1,2]` selects the value at the first row and second column in my_df.\n- `my_df[1:3,2:4]` selects rows 1, 2, 3 and columns 2, 3, 4 in my_df.\n\nSometimes you want to select all elements of a row or column. For example, `my_df[1, ]` selects all elements of the first row. Let us now apply this technique on planets_df!\n\n[Go Top](#top)"
    },
    {
      "metadata": {
        "trusted": true
      },
      "cell_type": "code",
      "source": "# Print out diameter of Mercury (row 1, column 3)\nplanets_df[1,3]\n\n# Print out data for Mars (entire fourth row)\nplanets_df[4,]",
      "execution_count": null,
      "outputs": []
    },
    {
      "metadata": {},
      "cell_type": "markdown",
      "source": "<a id =\"5-7\"></a>\n## Selection of data frame elements (2)\nInstead of using numerics to select elements of a data frame, you can also use the variable names to select columns of a data frame.\n\nSuppose you want to select the first three elements of the type column. One way to do this is\n\n> `planets_df[1:3,2]`\n\nA possible disadvantage of this approach is that you have to know (or look up) the column number of type, which gets hard if you have a lot of variables. It is often easier to just make use of the variable name:\n\n> `planets_df[1:3,\"type\"]`"
    },
    {
      "metadata": {
        "trusted": true
      },
      "cell_type": "code",
      "source": "# Select first 5 values of diameter column\nplanets_df[1:5, \"diameter\"]\nplanets_df_diameter <- planets_df$diameter\nplanets_df_diameter[1:5]",
      "execution_count": null,
      "outputs": []
    },
    {
      "metadata": {},
      "cell_type": "markdown",
      "source": "[Go Top](#top)\n<a id =\"5-8\"></a>\n## Only planets with rings\nYou will often want to select an entire column, namely one specific variable from a data frame. If you want to select all elements of the variable diameter, for example, both of these will do the trick:\n\n> `planets_df[,3]`<br>\n> `planets_df[,\"diameter\"]`\n\nHowever, there is a short-cut. If your columns have names, you can use the `$` sign:\n\n> `planets_df$diameter`"
    },
    {
      "metadata": {
        "trusted": true
      },
      "cell_type": "code",
      "source": "# Select the rings variable from planets_df\nrings_vector <- planets_df$rings\n  \n# Print out rings_vector\nrings_vector",
      "execution_count": null,
      "outputs": []
    },
    {
      "metadata": {},
      "cell_type": "markdown",
      "source": "<a id =\"5-9\"></a>\n## Only planets with rings (2)\nYou probably remember from high school that some planets in our solar system have rings and others do not. Unfortunately you can not recall their names. Could R help you out?\n\nIf you type `rings_vector` in the console, you get:\n\n> `[1] FALSE FALSE FALSE FALSE  TRUE  TRUE  TRUE  TRUE`\n\nThis means that the first four observations (or planets) do not have a ring (`FALSE`), but the other four do (`TRUE`). However, you do not get a nice overview of the names of these planets, their diameter, etc. Let's try to use `rings_vector` to select the data for the four planets with rings.\n\n[Go Top](#top)"
    },
    {
      "metadata": {
        "trusted": true
      },
      "cell_type": "code",
      "source": "rings_vector\n\n# Adapt the code to select all columns for planets with rings\nplanets_df[rings_vector, ]",
      "execution_count": null,
      "outputs": []
    },
    {
      "metadata": {
        "trusted": true
      },
      "cell_type": "code",
      "source": "subset(planets_df, subset = rings)",
      "execution_count": null,
      "outputs": []
    },
    {
      "metadata": {
        "trusted": true
      },
      "cell_type": "markdown",
      "source": "<a id =\"5-10\"></a>\n## Only planets with rings but shorter\nSo what exactly did you learn in the previous exercises? You selected a subset from a data frame (planets_df) based on whether or not a certain condition was true (rings or no rings), and you managed to pull out all relevant data. Pretty awesome! By now, NASA is probably already flirting with your CV ;-).\n\nNow, let us move up one level and use the function [**subset()**](https://www.rdocumentation.org/packages/base/versions/3.6.2/topics/subset). You should see the [**subset()**](https://www.rdocumentation.org/packages/base/versions/3.6.2/topics/subset) function as a short-cut to do exactly the same as what you did in the previous exercises.\n\n> `subset(my_df, subset = some_condition)`\n\nThe first argument of [**subset()**](https://www.rdocumentation.org/packages/base/versions/3.6.2/topics/subset) specifies the data set for which you want a subset. By adding the second argument, you give R the necessary information and conditions to select the correct subset.\n\nThe code below will give the exact same result as you got in the previous exercise, but this time, you didn't need the `rings_vector`!\n\n> `subset(planets_df, subset = rings)`"
    },
    {
      "metadata": {
        "trusted": true
      },
      "cell_type": "code",
      "source": "# Select planets with diameter < 1\nsubset(planets_df,diameter <1)\nsubset(planets_df,diameter <1, select= c(name,diameter))",
      "execution_count": null,
      "outputs": []
    },
    {
      "metadata": {
        "trusted": true
      },
      "cell_type": "code",
      "source": "?subset",
      "execution_count": null,
      "outputs": []
    },
    {
      "metadata": {},
      "cell_type": "markdown",
      "source": "[Go Top](#top)\n<a id =\"5-11\"></a>\n## Sorting\nMaking and creating rankings is one of mankind's favorite affairs. These rankings can be useful (best universities in the world), entertaining (most influential movie stars) or pointless (best 007 look-a-like).\n\nIn data analysis you can sort your data according to a certain variable in the data set. In R, this is done with the help of the function [**order()**](https://www.rdocumentation.org/packages/base/versions/3.6.2/topics/order) .\n\n[**order()**](https://www.rdocumentation.org/packages/base/versions/3.6.2/topics/order) is a function that gives you the ranked position of each element when it is applied on a variable, such as a vector for example:\n\n> `> a <- c(100, 10, 1000)`<br>\n> `> order(a)`<br>\n> `[1] 2 1 3`\n\n`10`, which is the second element in a, is the smallest element, so `2` comes first in the output of order(a). `100`, which is the first element in a is the second smallest element, so `1` comes second in the output of `order(a)`.\n\nThis means we can use the output of order(a) to reshuffle `a`:\n\n> `> a[order(a)]`<br>\n> `[1]   10  100 1000`"
    },
    {
      "metadata": {
        "trusted": true
      },
      "cell_type": "code",
      "source": "# Play around with the order function in the console\nx <- c(20, 60, 40, 100, 80)\nx\ny <- order(x)\nx[y]\nz <- sort(x)\nz",
      "execution_count": null,
      "outputs": []
    },
    {
      "metadata": {
        "trusted": true
      },
      "cell_type": "code",
      "source": "y\n",
      "execution_count": null,
      "outputs": []
    },
    {
      "metadata": {},
      "cell_type": "markdown",
      "source": "[Go Top](#top)\n<a id =\"5-12\"></a>\n## Sorting your data frame\nAlright, now that you understand the [**order()**](https://www.rdocumentation.org/packages/base/versions/3.6.2/topics/order) function, let us do something useful with it. You would like to rearrange your data frame such that it starts with the smallest planet and ends with the largest one. A sort on the `diameter` column.\n\n- Call [**order()**](https://www.rdocumentation.org/packages/base/versions/3.6.2/topics/order) on `planets_df$diameter` (the diameter column of `planets_df`). Store the result as positions.\n- Now reshuffle `planets_df` with the positions vector as row indexes inside square brackets. Keep all columns. Simply print out the result."
    },
    {
      "metadata": {
        "trusted": true
      },
      "cell_type": "code",
      "source": "# Use order() to create positions\npositions <-  order(planets_df$diameter)\npositions\n# Use positions to sort planets_df\n#planets_df[positions, ]\npositions2 <- planets_df[order(planets_df$diameter),]\npositions2",
      "execution_count": null,
      "outputs": []
    },
    {
      "metadata": {
        "trusted": true
      },
      "cell_type": "code",
      "source": "",
      "execution_count": null,
      "outputs": []
    }
  ],
  "metadata": {
    "kernelspec": {
      "name": "r",
      "display_name": "R",
      "language": "R"
    },
    "language_info": {
      "mimetype": "text/x-r-source",
      "name": "R",
      "pygments_lexer": "r",
      "version": "3.5.3",
      "file_extension": ".r",
      "codemirror_mode": "r"
    }
  },
  "nbformat": 4,
  "nbformat_minor": 2
}