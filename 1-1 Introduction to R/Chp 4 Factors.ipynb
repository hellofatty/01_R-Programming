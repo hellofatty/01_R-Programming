{
  "cells": [
    {
      "metadata": {},
      "cell_type": "markdown",
      "source": "# Chp 4 Factors\n\nData often falls into a limited number of categories. For example, human hair color can be categorized as black, brown, blond, red, grey, or white—and perhaps a few more options for people who color their hair. In R, categorical data is stored in factors. Factors are very important in data analysis, so start learning how to create, subset, and compare them now."
    },
    {
      "metadata": {},
      "cell_type": "markdown",
      "source": "## What's a factor and why would you use it?\nIn this chapter you dive into the wonderful world of factors.\n\nThe term **factor** refers to a statistical data type used to store categorical variables. The difference between a categorical variable and a continuous variable is that a categorical variable can belong to a limited number of categories. A continuous variable, on the other hand, can correspond to an infinite number of values.\n\nIt is important that R knows whether it is dealing with a continuous or a categorical variable, as the statistical models you will develop in the future treat both types differently. (You will see later why this is the case.)\n\nA good example of a categorical variable is `sex`. In many circumstances you can limit the sex categories to `\"Male\"` or `\"Female\"`. (Sometimes you may need different categories. For example, you may need to consider chromosomal variation, hermaphroditic animals, or different cultural norms, but you will always have a finite number of categories.)"
    },
    {
      "metadata": {
        "trusted": true
      },
      "cell_type": "code",
      "source": "# Assign to the variable theory what this chapter is about!\ntheory <- \"factors for categorical variables\"\ntheory",
      "execution_count": 2,
      "outputs": [
        {
          "output_type": "display_data",
          "data": {
            "text/plain": "[1] \"factors for categorical variables\"",
            "text/latex": "'factors for categorical variables'",
            "text/markdown": "'factors for categorical variables'",
            "text/html": "'factors for categorical variables'"
          },
          "metadata": {}
        }
      ]
    },
    {
      "metadata": {},
      "cell_type": "markdown",
      "source": "## What's a factor and why would you use it? (2)\nTo create factors in R, you make use of the function [**factor()**](https://www.rdocumentation.org/packages/base/versions/3.6.2/topics/factor). First thing that you have to do is create a vector that contains all the observations that belong to a limited number of categories. For example, sex_vector contains the sex of 5 different individuals:\n\n> `sex_vector <- c(\"Male\",\"Female\",\"Female\",\"Male\",\"Male\")`\n\nIt is clear that there are two categories, or in R-terms `'factor levels'`, at work here: `\"Male\"` and `\"Female\"`.\n\nThe function [**factor()**](https://www.rdocumentation.org/packages/base/versions/3.6.2/topics/factor) will encode the vector as a factor:\n\n> `factor_sex_vector <- factor(sex_vector)`"
    },
    {
      "metadata": {
        "trusted": true
      },
      "cell_type": "code",
      "source": "# Sex vector\nsex_vector <- c(\"Male\", \"Female\", \"Female\", \"Male\", \"Male\")\n\n# Convert sex_vector to a factor\nfactor_sex_vector <-factor(sex_vector)\n\n# Print out factor_sex_vector\nprint(factor_sex_vector)",
      "execution_count": 17,
      "outputs": [
        {
          "output_type": "stream",
          "text": "[1] Male   Female Female Male   Male  \nLevels: Female Male\n",
          "name": "stdout"
        }
      ]
    },
    {
      "metadata": {
        "trusted": true
      },
      "cell_type": "code",
      "source": "?factor\n",
      "execution_count": 4,
      "outputs": []
    },
    {
      "metadata": {},
      "cell_type": "markdown",
      "source": "## What's a factor and why would you use it? (3)\nThere are two types of categorical variables: a **nominal categorical variable** and an **ordinal categorical variable**.\n\nA nominal variable is a **categorical variable** without an implied order. This means that it is impossible to say that 'one is worth more than the other'. For example, think of the categorical variable `animals_vector` with the categories `\"Elephant\"`, `\"Giraffe\"`, `\"Donkey\"` and `\"Horse\"`. Here, it is impossible to say that one stands above or below the other. (Note that some of you might disagree ;-) ).\n\nIn contrast, **ordinal variables** do have a natural ordering. Consider for example the categorical variable `temperature_vector` with the categories: `\"Low\"`, `\"Medium\"` and `\"High\"`. Here it is obvious that `\"Medium\"` stands above `\"Low\"`, and `\"High\"` stands above `\"Medium\"`."
    },
    {
      "metadata": {
        "trusted": true
      },
      "cell_type": "code",
      "source": "# Animals\nanimals_vector <- c(\"Elephant\", \"Giraffe\", \"Donkey\", \"Horse\")\nfactor_animals_vector <- factor(animals_vector)\nprint(factor_animals_vector)\n\n# Temperature\ntemperature_vector <- c(\"High\", \"Low\", \"High\",\"Low\", \"Medium\")\n# Ordered\nfactor_temperature_vector <- factor(temperature_vector, ordered = TRUE, levels = c(\"Low\", \"Medium\", \"High\"))\nprint(factor_temperature_vector)",
      "execution_count": 23,
      "outputs": [
        {
          "output_type": "stream",
          "text": "[1] Elephant Giraffe  Donkey   Horse   \nLevels: Donkey Elephant Giraffe Horse\n[1] High   Low    High   Low    Medium\nLevels: Low < Medium < High\n",
          "name": "stdout"
        }
      ]
    },
    {
      "metadata": {},
      "cell_type": "markdown",
      "source": "## Factor levels\nWhen you first get a data set, you will often notice that it contains factors with specific factor levels. However, sometimes you will want to change the names of these levels for clarity or other reasons. R allows you to do this with the function `levels()`:\n\n> `levels(factor_vector) <- c(\"name1\", \"name2\",...)`\n\nA good illustration is the raw data that is provided to you by a survey. A common question for every questionnaire is the sex of the respondent. Here, for simplicity, just two categories were recorded, `\"M\"` and `\"F\"`. (You usually need more categories for survey data; either way, you use a factor to store the categorical data.)\n\n> `survey_vector <- c(\"M\", \"F\", \"F\", \"M\", \"M\")`\n\nRecording the sex with the abbreviations `\"M\"` and `\"F\"` can be convenient if you are collecting data with pen and paper, but it can introduce confusion when analyzing the data. At that point, you will often want to change the factor levels to `\"Male\"` and `\"Female\"` instead of `\"M\"` and `\"F\"` for clarity.\n\nWatch out: **the order with which you assign the levels is important**. If you type `levels(factor_survey_vector)`, you'll see that it outputs `[1] \"F\" \"M\"`. If you don't specify the levels of the factor when creating the vector, R will automatically assign them alphabetically. To correctly map `\"F\"` to `\"Female\"` and `\"M\"` to `\"Male\"`, the levels should be set to `c(\"Female\", \"Male\")`, in this order."
    },
    {
      "metadata": {
        "trusted": true
      },
      "cell_type": "code",
      "source": "# Code to build factor_survey_vector\nsurvey_vector <- c(\"M\", \"F\", \"F\", \"M\", \"M\")\nprint(survey_vector)\nfactor_survey_vector <- factor(survey_vector)\nprint(factor_survey_vector)\n# Specify the levels of factor_survey_vector\nlevels(factor_survey_vector) <- c(\"Female\", \"Male\")\n\nprint(factor_survey_vector)",
      "execution_count": 16,
      "outputs": [
        {
          "output_type": "stream",
          "text": "[1] \"M\" \"F\" \"F\" \"M\" \"M\"\n[1] M F F M M\nLevels: F M\n[1] Male   Female Female Male   Male  \nLevels: Female Male\n",
          "name": "stdout"
        }
      ]
    },
    {
      "metadata": {},
      "cell_type": "markdown",
      "source": "## Summarizing a factor\n\nAfter finishing this course, one of your favorite functions in R will be [**summary()**](https://www.rdocumentation.org/packages/base/versions/3.6.2/topics/summary). This will give you a quick overview of the contents of a variable:\n\n> `summary(my_var)`\n\nGoing back to our survey, you would like to know how many `\"Male\"` responses you have in your study, and how many `\"Female\"` responses. The [**summary()**](https://www.rdocumentation.org/packages/base/versions/3.6.2/topics/summary) function gives you the answer to this question."
    },
    {
      "metadata": {
        "trusted": true
      },
      "cell_type": "code",
      "source": "# Generate summary for survey_vector\nprint(summary(survey_vector))\n\n# Generate summary for factor_survey_vector\nprint(summary(factor_survey_vector))",
      "execution_count": 20,
      "outputs": [
        {
          "output_type": "stream",
          "text": "   Length     Class      Mode \n        5 character character \nFemale   Male \n     2      3 \n",
          "name": "stdout"
        }
      ]
    },
    {
      "metadata": {},
      "cell_type": "markdown",
      "source": "### Battle of the sexes\nYou might wonder what happens when you try to compare elements of a factor. In `factor_survey_vector` you have a factor with two levels: `\"Male\"` and `\"Female\"`. But how does R value these relative to each other?"
    },
    {
      "metadata": {
        "trusted": true
      },
      "cell_type": "code",
      "source": "# Male\nmale <- factor_survey_vector[1]\nprint(male)\n\n# Female\nfemale <- factor_survey_vector[2]\nprint(female)\n\n# Battle of the sexes: Male 'larger' than female?\nmale > female",
      "execution_count": 21,
      "outputs": [
        {
          "output_type": "stream",
          "text": "[1] Male\nLevels: Female Male\n[1] Female\nLevels: Female Male\n",
          "name": "stdout"
        },
        {
          "output_type": "stream",
          "text": "Warning message in Ops.factor(male, female):\n“‘>’ not meaningful for factors”",
          "name": "stderr"
        },
        {
          "output_type": "display_data",
          "data": {
            "text/plain": "[1] NA",
            "text/latex": "<NA>",
            "text/markdown": "&lt;NA&gt;",
            "text/html": "&lt;NA&gt;"
          },
          "metadata": {}
        }
      ]
    },
    {
      "metadata": {},
      "cell_type": "markdown",
      "source": "## Ordered factors\n\nSince `\"Male\"` and `\"Female\"` are unordered (or nominal) factor levels, R returns a warning message, telling you that the greater than operator is not meaningful. As seen before, R attaches an equal value to the levels for such factors.\n\nBut this is not always the case! Sometimes you will also deal with factors that do have a natural ordering between its categories. If this is the case, we have to make sure that we pass this information to R...\n\nLet us say that you are leading a research team of five data analysts and that you want to evaluate their performance. To do this, you track their speed, evaluate each analyst as `\"slow\"`, `\"medium\"` or `\"fast\"`, and save the results in `speed_vector`."
    },
    {
      "metadata": {},
      "cell_type": "markdown",
      "source": "As a first step, assign `speed_vector` a vector with 5 entries, one for each analyst. Each entry should be either `\"slow\"`, `\"medium\"`, or `\"fast\"`. Use the list below:\n\n- Analyst 1 is medium,\n- Analyst 2 is slow,\n- Analyst 3 is slow,\n- Analyst 4 is medium and\n- Analyst 5 is fast.\n\nNo need to specify these are factors yet.\n"
    },
    {
      "metadata": {
        "trusted": true
      },
      "cell_type": "code",
      "source": "# Create speed_vector\nspeed_vector <-c('medium', \"slow\", \"slow\", \"medium\", \"fast\")\nprint(speed_vector)",
      "execution_count": 22,
      "outputs": [
        {
          "output_type": "stream",
          "text": "[1] \"medium\" \"slow\"   \"slow\"   \"medium\" \"fast\"  \n",
          "name": "stdout"
        }
      ]
    },
    {
      "metadata": {},
      "cell_type": "markdown",
      "source": "## Ordered factors (2)\nspeed_vector should be converted to an ordinal factor since its categories have a natural ordering. By default, the function `factor()` transforms `speed_vector` into an unordered factor. To create an ordered factor, you have to add two additional arguments: **`ordered`** and **`levels`**.\n\n> `factor(some_vector,\n       ordered = TRUE,\n       levels = c(\"lev1\", \"lev2\" ...))`\n\nBy setting the argument ordered to TRUE in the function factor(), you indicate that the factor is ordered. With the argument levels you give the values of the factor in the correct order."
    },
    {
      "metadata": {
        "trusted": true
      },
      "cell_type": "code",
      "source": "# Convert speed_vector to ordered factor vector\nfactor_speed_vector <-factor(speed_vector, ordered = TRUE, levels = c(\"slow\", \"medium\", \"fast\"))\n\n# Print factor_speed_vector\nprint(factor_speed_vector)\nprint(summary(factor_speed_vector))",
      "execution_count": 15,
      "outputs": [
        {
          "output_type": "stream",
          "text": "[1] medium slow   slow   medium fast  \nLevels: slow < medium < fast\n  slow medium   fast \n     2      2      1 \n",
          "name": "stdout"
        }
      ]
    },
    {
      "metadata": {},
      "cell_type": "markdown",
      "source": "## Comparing ordered factors\n\nHaving a bad day at work, `'data analyst number two'` enters your office and starts complaining that `'data analyst number five'` is slowing down the entire project. Since you know that `'data analyst number two'` has the reputation of being a smarty-pants, you first decide to check if his statement is true.\n\nThe fact that `factor_speed_vector` is now ordered enables us to compare different elements (the data analysts in this case). You can simply do this by using the well-known operators."
    },
    {
      "metadata": {
        "trusted": true
      },
      "cell_type": "code",
      "source": "# Factor value for second data analyst\nda2 <- factor_speed_vector[2]\nprint(da2)\n# Factor value for fifth data analyst\nda5 <- factor_speed_vector[5]\nprint(da5)\n# Is data analyst 2 faster than data analyst 5?\nda2>da5",
      "execution_count": 13,
      "outputs": [
        {
          "output_type": "stream",
          "text": "[1] slow\nLevels: slow < medium < fast\n[1] fast\nLevels: slow < medium < fast\n",
          "name": "stdout"
        },
        {
          "output_type": "display_data",
          "data": {
            "text/plain": "[1] FALSE",
            "text/latex": "FALSE",
            "text/markdown": "FALSE",
            "text/html": "FALSE"
          },
          "metadata": {}
        }
      ]
    },
    {
      "metadata": {
        "trusted": true
      },
      "cell_type": "code",
      "source": "",
      "execution_count": 19,
      "outputs": []
    },
    {
      "metadata": {
        "trusted": true
      },
      "cell_type": "code",
      "source": "",
      "execution_count": null,
      "outputs": []
    }
  ],
  "metadata": {
    "kernelspec": {
      "name": "r",
      "display_name": "R",
      "language": "R"
    },
    "language_info": {
      "mimetype": "text/x-r-source",
      "name": "R",
      "pygments_lexer": "r",
      "version": "3.5.3",
      "file_extension": ".r",
      "codemirror_mode": "r"
    }
  },
  "nbformat": 4,
  "nbformat_minor": 2
}