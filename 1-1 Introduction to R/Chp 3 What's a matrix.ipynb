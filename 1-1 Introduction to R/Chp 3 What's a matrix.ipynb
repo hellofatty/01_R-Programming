{
  "cells": [
    {
      "metadata": {},
      "cell_type": "markdown",
      "source": "## Chp 3 What's a matrix?"
    },
    {
      "metadata": {},
      "cell_type": "markdown",
      "source": "### What's a matrix?\nIn R, a matrix is a collection of elements of **the same data type** (numeric, character, or logical) arranged into a fixed number of rows and columns. Since you are only working with rows and columns, a matrix is called _two-dimensional_.\n\nYou can construct a matrix in R with the `matrix()` function. Consider the following example:\n\n> `matrix(1:9, byrow = TRUE, nrow = 3)`\n\nIn the [**matrix()**](https://www.rdocumentation.org/packages/base/versions/3.6.2/topics/matrix) function:\n\n- The first argument is the collection of elements that R will arrange into the rows and columns of the matrix. Here, we use `1:9` which is a shortcut for `c(1, 2, 3, 4, 5, 6, 7, 8, 9)`.\n\n- The argument **`byrow`** indicates that the matrix is filled by the rows. If we want the matrix to be filled by the columns, we just place `byrow = FALSE`.\n- The third argument `nrow` indicates that the matrix should have three rows."
    },
    {
      "metadata": {
        "trusted": true
      },
      "cell_type": "code",
      "source": "# Construct a matrix with 3 rows that contain the numbers 1 up to 9\nprint(matrix(1:9,byrow =TRUE,nrow = 3))\n# Construct a matrix with 1 column that contain the numbers 1 up to 9\nprint(matrix(1:9,byrow =FALSE,ncol = 1))",
      "execution_count": 57,
      "outputs": [
        {
          "output_type": "stream",
          "text": "     [,1] [,2] [,3]\n[1,]    1    2    3\n[2,]    4    5    6\n[3,]    7    8    9\n      [,1]\n [1,]    1\n [2,]    2\n [3,]    3\n [4,]    4\n [5,]    5\n [6,]    6\n [7,]    7\n [8,]    8\n [9,]    9\n",
          "name": "stdout"
        }
      ]
    },
    {
      "metadata": {
        "trusted": true
      },
      "cell_type": "code",
      "source": "?matrix",
      "execution_count": 58,
      "outputs": []
    },
    {
      "metadata": {
        "trusted": true
      },
      "cell_type": "code",
      "source": "c(1,2,3,4,5,6,7,8,9)\n# shortcut of the above\n1:9",
      "execution_count": 60,
      "outputs": [
        {
          "output_type": "display_data",
          "data": {
            "text/plain": "[1] 1 2 3 4 5 6 7 8 9",
            "text/latex": "\\begin{enumerate*}\n\\item 1\n\\item 2\n\\item 3\n\\item 4\n\\item 5\n\\item 6\n\\item 7\n\\item 8\n\\item 9\n\\end{enumerate*}\n",
            "text/markdown": "1. 1\n2. 2\n3. 3\n4. 4\n5. 5\n6. 6\n7. 7\n8. 8\n9. 9\n\n\n",
            "text/html": "<ol class=list-inline>\n\t<li>1</li>\n\t<li>2</li>\n\t<li>3</li>\n\t<li>4</li>\n\t<li>5</li>\n\t<li>6</li>\n\t<li>7</li>\n\t<li>8</li>\n\t<li>9</li>\n</ol>\n"
          },
          "metadata": {}
        },
        {
          "output_type": "display_data",
          "data": {
            "text/plain": "[1] 1 2 3 4 5 6 7 8 9",
            "text/latex": "\\begin{enumerate*}\n\\item 1\n\\item 2\n\\item 3\n\\item 4\n\\item 5\n\\item 6\n\\item 7\n\\item 8\n\\item 9\n\\end{enumerate*}\n",
            "text/markdown": "1. 1\n2. 2\n3. 3\n4. 4\n5. 5\n6. 6\n7. 7\n8. 8\n9. 9\n\n\n",
            "text/html": "<ol class=list-inline>\n\t<li>1</li>\n\t<li>2</li>\n\t<li>3</li>\n\t<li>4</li>\n\t<li>5</li>\n\t<li>6</li>\n\t<li>7</li>\n\t<li>8</li>\n\t<li>9</li>\n</ol>\n"
          },
          "metadata": {}
        }
      ]
    },
    {
      "metadata": {
        "trusted": true
      },
      "cell_type": "code",
      "source": "# Box office Star Wars (in millions!)\nnew_hope <- c(460.998, 314.4)\nempire_strikes <- c(290.475, 247.900)\nreturn_jedi <- c(309.306, 165.8)\n\n# Create box_office\nbox_office <- c(new_hope, empire_strikes, return_jedi)\nprint(box_office)\n\n# Construct star_wars_matrix\nstar_wars_matrix <- matrix(box_office, nrow=3, byrow=TRUE, dimnames=list(c(\"new hope\", \"empire strike\", \"return jedi\"),c(1,2)))\nstar_wars_matrix",
      "execution_count": 63,
      "outputs": [
        {
          "output_type": "stream",
          "text": "[1] 460.998 314.400 290.475 247.900 309.306 165.800\n",
          "name": "stdout"
        },
        {
          "output_type": "display_data",
          "data": {
            "text/plain": "              1       2    \nnew hope      460.998 314.4\nempire strike 290.475 247.9\nreturn jedi   309.306 165.8",
            "text/latex": "A matrix: 3 x 2 of type dbl\n\\begin{tabular}{r|ll}\n  & 1 & 2\\\\\n\\hline\n\tnew hope & 460.998 & 314.4\\\\\n\tempire strike & 290.475 & 247.9\\\\\n\treturn jedi & 309.306 & 165.8\\\\\n\\end{tabular}\n",
            "text/markdown": "\nA matrix: 3 x 2 of type dbl\n\n| <!--/--> | 1 | 2 |\n|---|---|---|\n| new hope | 460.998 | 314.4 |\n| empire strike | 290.475 | 247.9 |\n| return jedi | 309.306 | 165.8 |\n\n",
            "text/html": "<table>\n<caption>A matrix: 3 x 2 of type dbl</caption>\n<thead>\n\t<tr><th></th><th scope=col>1</th><th scope=col>2</th></tr>\n</thead>\n<tbody>\n\t<tr><th scope=row>new hope</th><td>460.998</td><td>314.4</td></tr>\n\t<tr><th scope=row>empire strike</th><td>290.475</td><td>247.9</td></tr>\n\t<tr><th scope=row>return jedi</th><td>309.306</td><td>165.8</td></tr>\n</tbody>\n</table>\n"
          },
          "metadata": {}
        }
      ]
    },
    {
      "metadata": {
        "trusted": true
      },
      "cell_type": "code",
      "source": "# Vectors region and titles, used for naming\nregion <- c(\"US\", \"non-US\")\ntitles <- c(\"A New Hope\", \"The Empire Strikes Back\", \"Return of the Jedi\")\n\n# Name the columns with region\n\ncolnames(star_wars_matrix)<- region\n# Name the rows with titles\nrownames(star_wars_matrix)<- titles\n\n\n# Print out star_wars_matrix\nstar_wars_matrix",
      "execution_count": 73,
      "outputs": [
        {
          "output_type": "display_data",
          "data": {
            "text/plain": "                        US      non-US\nA New Hope              460.998 314.4 \nThe Empire Strikes Back 290.475 247.9 \nReturn of the Jedi      309.306 165.8 ",
            "text/latex": "A matrix: 3 x 2 of type dbl\n\\begin{tabular}{r|ll}\n  & US & non-US\\\\\n\\hline\n\tA New Hope & 460.998 & 314.4\\\\\n\tThe Empire Strikes Back & 290.475 & 247.9\\\\\n\tReturn of the Jedi & 309.306 & 165.8\\\\\n\\end{tabular}\n",
            "text/markdown": "\nA matrix: 3 x 2 of type dbl\n\n| <!--/--> | US | non-US |\n|---|---|---|\n| A New Hope | 460.998 | 314.4 |\n| The Empire Strikes Back | 290.475 | 247.9 |\n| Return of the Jedi | 309.306 | 165.8 |\n\n",
            "text/html": "<table>\n<caption>A matrix: 3 x 2 of type dbl</caption>\n<thead>\n\t<tr><th></th><th scope=col>US</th><th scope=col>non-US</th></tr>\n</thead>\n<tbody>\n\t<tr><th scope=row>A New Hope</th><td>460.998</td><td>314.4</td></tr>\n\t<tr><th scope=row>The Empire Strikes Back</th><td>290.475</td><td>247.9</td></tr>\n\t<tr><th scope=row>Return of the Jedi</th><td>309.306</td><td>165.8</td></tr>\n</tbody>\n</table>\n"
          },
          "metadata": {}
        }
      ]
    },
    {
      "metadata": {
        "trusted": true
      },
      "cell_type": "code",
      "source": "# Calculate worldwide box office figures\nworldwide_vector <- rowSums(star_wars_matrix)\nworldwide_vector\nclass(worldwide_vector)",
      "execution_count": 68,
      "outputs": [
        {
          "output_type": "display_data",
          "data": {
            "text/plain": "     new hope empire strike   return jedi \n      775.398       538.375       475.106 ",
            "text/latex": "\\begin{description*}\n\\item[new hope] 775.398\n\\item[empire strike] 538.375\n\\item[return jedi] 475.106\n\\end{description*}\n",
            "text/markdown": "new hope\n:   775.398empire strike\n:   538.375return jedi\n:   475.106\n\n",
            "text/html": "<dl class=dl-horizontal>\n\t<dt>new hope</dt>\n\t\t<dd>775.398</dd>\n\t<dt>empire strike</dt>\n\t\t<dd>538.375</dd>\n\t<dt>return jedi</dt>\n\t\t<dd>475.106</dd>\n</dl>\n"
          },
          "metadata": {}
        },
        {
          "output_type": "display_data",
          "data": {
            "text/plain": "[1] \"numeric\"",
            "text/latex": "'numeric'",
            "text/markdown": "'numeric'",
            "text/html": "'numeric'"
          },
          "metadata": {}
        }
      ]
    },
    {
      "metadata": {
        "trusted": true
      },
      "cell_type": "code",
      "source": "# Bind the new variable worldwide_vector as a column to star_wars_matrix\nall_wars_matrix <- cbind(star_wars_matrix, worldwide_vector)\ncolnames(all_wars_matrix) <- c(\"US\", \"Non-US\", \"World_Total\")\nall_wars_matrix",
      "execution_count": 69,
      "outputs": [
        {
          "output_type": "display_data",
          "data": {
            "text/plain": "              US      Non-US World_Total\nnew hope      460.998 314.4  775.398    \nempire strike 290.475 247.9  538.375    \nreturn jedi   309.306 165.8  475.106    ",
            "text/latex": "A matrix: 3 x 3 of type dbl\n\\begin{tabular}{r|lll}\n  & US & Non-US & World\\_Total\\\\\n\\hline\n\tnew hope & 460.998 & 314.4 & 775.398\\\\\n\tempire strike & 290.475 & 247.9 & 538.375\\\\\n\treturn jedi & 309.306 & 165.8 & 475.106\\\\\n\\end{tabular}\n",
            "text/markdown": "\nA matrix: 3 x 3 of type dbl\n\n| <!--/--> | US | Non-US | World_Total |\n|---|---|---|---|\n| new hope | 460.998 | 314.4 | 775.398 |\n| empire strike | 290.475 | 247.9 | 538.375 |\n| return jedi | 309.306 | 165.8 | 475.106 |\n\n",
            "text/html": "<table>\n<caption>A matrix: 3 x 3 of type dbl</caption>\n<thead>\n\t<tr><th></th><th scope=col>US</th><th scope=col>Non-US</th><th scope=col>World_Total</th></tr>\n</thead>\n<tbody>\n\t<tr><th scope=row>new hope</th><td>460.998</td><td>314.4</td><td>775.398</td></tr>\n\t<tr><th scope=row>empire strike</th><td>290.475</td><td>247.9</td><td>538.375</td></tr>\n\t<tr><th scope=row>return jedi</th><td>309.306</td><td>165.8</td><td>475.106</td></tr>\n</tbody>\n</table>\n"
          },
          "metadata": {}
        }
      ]
    },
    {
      "metadata": {
        "trusted": true
      },
      "cell_type": "code",
      "source": "# Print out star_wars_matrix\nstar_wars_matrix",
      "execution_count": 74,
      "outputs": [
        {
          "output_type": "display_data",
          "data": {
            "text/plain": "                        US      non-US\nA New Hope              460.998 314.4 \nThe Empire Strikes Back 290.475 247.9 \nReturn of the Jedi      309.306 165.8 ",
            "text/latex": "A matrix: 3 x 2 of type dbl\n\\begin{tabular}{r|ll}\n  & US & non-US\\\\\n\\hline\n\tA New Hope & 460.998 & 314.4\\\\\n\tThe Empire Strikes Back & 290.475 & 247.9\\\\\n\tReturn of the Jedi & 309.306 & 165.8\\\\\n\\end{tabular}\n",
            "text/markdown": "\nA matrix: 3 x 2 of type dbl\n\n| <!--/--> | US | non-US |\n|---|---|---|\n| A New Hope | 460.998 | 314.4 |\n| The Empire Strikes Back | 290.475 | 247.9 |\n| Return of the Jedi | 309.306 | 165.8 |\n\n",
            "text/html": "<table>\n<caption>A matrix: 3 x 2 of type dbl</caption>\n<thead>\n\t<tr><th></th><th scope=col>US</th><th scope=col>non-US</th></tr>\n</thead>\n<tbody>\n\t<tr><th scope=row>A New Hope</th><td>460.998</td><td>314.4</td></tr>\n\t<tr><th scope=row>The Empire Strikes Back</th><td>290.475</td><td>247.9</td></tr>\n\t<tr><th scope=row>Return of the Jedi</th><td>309.306</td><td>165.8</td></tr>\n</tbody>\n</table>\n"
          },
          "metadata": {}
        }
      ]
    },
    {
      "metadata": {
        "trusted": true
      },
      "cell_type": "code",
      "source": "# Box office Star Wars 2 (in millions!)\nphantom_menace <- c(474.5, 552.5)\nattack_clones <- c(310.7, 338.7)\nrevenge_sith <- c(380.3, 468.5)\n\n# Create box_office\nbox_office2 <- c(phantom_menace, attack_clones, revenge_sith)\nprint(box_office2)\n\n# Construct star_wars_matrix\nstar_wars_matrix2 <- matrix(box_office2, nrow=3, byrow=TRUE)\nstar_wars_matrix2\n\n# Vectors region and titles, used for naming\nregion <- c(\"US\", \"non-US\")\ntitles <- c(\"The Phantom Menace\", \"Attack of the Clones\", \"Revenge of the Sith\")\n\n# Name the columns with region\n\ncolnames(star_wars_matrix2)<- region\n# Name the rows with titles\nrownames(star_wars_matrix2)<- titles\n# Print out star_wars_matrix\nstar_wars_matrix2",
      "execution_count": 75,
      "outputs": [
        {
          "output_type": "stream",
          "text": "[1] 474.5 552.5 310.7 338.7 380.3 468.5\n",
          "name": "stdout"
        },
        {
          "output_type": "display_data",
          "data": {
            "text/plain": "     [,1]  [,2] \n[1,] 474.5 552.5\n[2,] 310.7 338.7\n[3,] 380.3 468.5",
            "text/latex": "A matrix: 3 x 2 of type dbl\n\\begin{tabular}{ll}\n\t 474.5 & 552.5\\\\\n\t 310.7 & 338.7\\\\\n\t 380.3 & 468.5\\\\\n\\end{tabular}\n",
            "text/markdown": "\nA matrix: 3 x 2 of type dbl\n\n| 474.5 | 552.5 |\n| 310.7 | 338.7 |\n| 380.3 | 468.5 |\n\n",
            "text/html": "<table>\n<caption>A matrix: 3 x 2 of type dbl</caption>\n<tbody>\n\t<tr><td>474.5</td><td>552.5</td></tr>\n\t<tr><td>310.7</td><td>338.7</td></tr>\n\t<tr><td>380.3</td><td>468.5</td></tr>\n</tbody>\n</table>\n"
          },
          "metadata": {}
        },
        {
          "output_type": "display_data",
          "data": {
            "text/plain": "                     US    non-US\nThe Phantom Menace   474.5 552.5 \nAttack of the Clones 310.7 338.7 \nRevenge of the Sith  380.3 468.5 ",
            "text/latex": "A matrix: 3 x 2 of type dbl\n\\begin{tabular}{r|ll}\n  & US & non-US\\\\\n\\hline\n\tThe Phantom Menace & 474.5 & 552.5\\\\\n\tAttack of the Clones & 310.7 & 338.7\\\\\n\tRevenge of the Sith & 380.3 & 468.5\\\\\n\\end{tabular}\n",
            "text/markdown": "\nA matrix: 3 x 2 of type dbl\n\n| <!--/--> | US | non-US |\n|---|---|---|\n| The Phantom Menace | 474.5 | 552.5 |\n| Attack of the Clones | 310.7 | 338.7 |\n| Revenge of the Sith | 380.3 | 468.5 |\n\n",
            "text/html": "<table>\n<caption>A matrix: 3 x 2 of type dbl</caption>\n<thead>\n\t<tr><th></th><th scope=col>US</th><th scope=col>non-US</th></tr>\n</thead>\n<tbody>\n\t<tr><th scope=row>The Phantom Menace</th><td>474.5</td><td>552.5</td></tr>\n\t<tr><th scope=row>Attack of the Clones</th><td>310.7</td><td>338.7</td></tr>\n\t<tr><th scope=row>Revenge of the Sith</th><td>380.3</td><td>468.5</td></tr>\n</tbody>\n</table>\n"
          },
          "metadata": {}
        }
      ]
    },
    {
      "metadata": {
        "trusted": true
      },
      "cell_type": "code",
      "source": "# star_wars_matrix and star_wars_matrix2 are available in your workspace\nstar_wars_matrix  \nstar_wars_matrix2 \n",
      "execution_count": 76,
      "outputs": [
        {
          "output_type": "display_data",
          "data": {
            "text/plain": "                        US      non-US\nA New Hope              460.998 314.4 \nThe Empire Strikes Back 290.475 247.9 \nReturn of the Jedi      309.306 165.8 ",
            "text/latex": "A matrix: 3 x 2 of type dbl\n\\begin{tabular}{r|ll}\n  & US & non-US\\\\\n\\hline\n\tA New Hope & 460.998 & 314.4\\\\\n\tThe Empire Strikes Back & 290.475 & 247.9\\\\\n\tReturn of the Jedi & 309.306 & 165.8\\\\\n\\end{tabular}\n",
            "text/markdown": "\nA matrix: 3 x 2 of type dbl\n\n| <!--/--> | US | non-US |\n|---|---|---|\n| A New Hope | 460.998 | 314.4 |\n| The Empire Strikes Back | 290.475 | 247.9 |\n| Return of the Jedi | 309.306 | 165.8 |\n\n",
            "text/html": "<table>\n<caption>A matrix: 3 x 2 of type dbl</caption>\n<thead>\n\t<tr><th></th><th scope=col>US</th><th scope=col>non-US</th></tr>\n</thead>\n<tbody>\n\t<tr><th scope=row>A New Hope</th><td>460.998</td><td>314.4</td></tr>\n\t<tr><th scope=row>The Empire Strikes Back</th><td>290.475</td><td>247.9</td></tr>\n\t<tr><th scope=row>Return of the Jedi</th><td>309.306</td><td>165.8</td></tr>\n</tbody>\n</table>\n"
          },
          "metadata": {}
        },
        {
          "output_type": "display_data",
          "data": {
            "text/plain": "                     US    non-US\nThe Phantom Menace   474.5 552.5 \nAttack of the Clones 310.7 338.7 \nRevenge of the Sith  380.3 468.5 ",
            "text/latex": "A matrix: 3 x 2 of type dbl\n\\begin{tabular}{r|ll}\n  & US & non-US\\\\\n\\hline\n\tThe Phantom Menace & 474.5 & 552.5\\\\\n\tAttack of the Clones & 310.7 & 338.7\\\\\n\tRevenge of the Sith & 380.3 & 468.5\\\\\n\\end{tabular}\n",
            "text/markdown": "\nA matrix: 3 x 2 of type dbl\n\n| <!--/--> | US | non-US |\n|---|---|---|\n| The Phantom Menace | 474.5 | 552.5 |\n| Attack of the Clones | 310.7 | 338.7 |\n| Revenge of the Sith | 380.3 | 468.5 |\n\n",
            "text/html": "<table>\n<caption>A matrix: 3 x 2 of type dbl</caption>\n<thead>\n\t<tr><th></th><th scope=col>US</th><th scope=col>non-US</th></tr>\n</thead>\n<tbody>\n\t<tr><th scope=row>The Phantom Menace</th><td>474.5</td><td>552.5</td></tr>\n\t<tr><th scope=row>Attack of the Clones</th><td>310.7</td><td>338.7</td></tr>\n\t<tr><th scope=row>Revenge of the Sith</th><td>380.3</td><td>468.5</td></tr>\n</tbody>\n</table>\n"
          },
          "metadata": {}
        }
      ]
    },
    {
      "metadata": {
        "trusted": true
      },
      "cell_type": "code",
      "source": "# Combine both Star Wars trilogies in one matrix\nall_wars_matrix <- rbind(star_wars_matrix,star_wars_matrix2)\nall_wars_matrix",
      "execution_count": 79,
      "outputs": [
        {
          "output_type": "display_data",
          "data": {
            "text/plain": "                        US      non-US\nA New Hope              460.998 314.4 \nThe Empire Strikes Back 290.475 247.9 \nReturn of the Jedi      309.306 165.8 \nThe Phantom Menace      474.500 552.5 \nAttack of the Clones    310.700 338.7 \nRevenge of the Sith     380.300 468.5 ",
            "text/latex": "A matrix: 6 x 2 of type dbl\n\\begin{tabular}{r|ll}\n  & US & non-US\\\\\n\\hline\n\tA New Hope & 460.998 & 314.4\\\\\n\tThe Empire Strikes Back & 290.475 & 247.9\\\\\n\tReturn of the Jedi & 309.306 & 165.8\\\\\n\tThe Phantom Menace & 474.500 & 552.5\\\\\n\tAttack of the Clones & 310.700 & 338.7\\\\\n\tRevenge of the Sith & 380.300 & 468.5\\\\\n\\end{tabular}\n",
            "text/markdown": "\nA matrix: 6 x 2 of type dbl\n\n| <!--/--> | US | non-US |\n|---|---|---|\n| A New Hope | 460.998 | 314.4 |\n| The Empire Strikes Back | 290.475 | 247.9 |\n| Return of the Jedi | 309.306 | 165.8 |\n| The Phantom Menace | 474.500 | 552.5 |\n| Attack of the Clones | 310.700 | 338.7 |\n| Revenge of the Sith | 380.300 | 468.5 |\n\n",
            "text/html": "<table>\n<caption>A matrix: 6 x 2 of type dbl</caption>\n<thead>\n\t<tr><th></th><th scope=col>US</th><th scope=col>non-US</th></tr>\n</thead>\n<tbody>\n\t<tr><th scope=row>A New Hope</th><td>460.998</td><td>314.4</td></tr>\n\t<tr><th scope=row>The Empire Strikes Back</th><td>290.475</td><td>247.9</td></tr>\n\t<tr><th scope=row>Return of the Jedi</th><td>309.306</td><td>165.8</td></tr>\n\t<tr><th scope=row>The Phantom Menace</th><td>474.500</td><td>552.5</td></tr>\n\t<tr><th scope=row>Attack of the Clones</th><td>310.700</td><td>338.7</td></tr>\n\t<tr><th scope=row>Revenge of the Sith</th><td>380.300</td><td>468.5</td></tr>\n</tbody>\n</table>\n"
          },
          "metadata": {}
        }
      ]
    },
    {
      "metadata": {
        "trusted": true
      },
      "cell_type": "code",
      "source": "ls()",
      "execution_count": 78,
      "outputs": [
        {
          "output_type": "display_data",
          "data": {
            "text/plain": " [1] \"A_vector\"                  \"all_wars_matrix\"          \n [3] \"attack_clones\"             \"B_vector\"                 \n [5] \"boolean_vector\"            \"box_office\"               \n [7] \"box_office2\"               \"character_vector\"         \n [9] \"days_vector\"               \"empire_strikes\"           \n[11] \"my_apples\"                 \"my_character\"             \n[13] \"my_fruit\"                  \"my_logical\"               \n[15] \"my_numeric\"                \"my_oranges\"               \n[17] \"names\"                     \"new_hope\"                 \n[19] \"numeric_vector\"            \"phantom_menace\"           \n[21] \"poker_midweek\"             \"poker_start\"              \n[23] \"poker_vector\"              \"poker_wednesday\"          \n[25] \"poker_winning_days\"        \"region\"                   \n[27] \"return_jedi\"               \"revenge_sith\"             \n[29] \"roulette_selection_vector\" \"roulette_vector\"          \n[31] \"roulette_winning_days\"     \"selection_vector\"         \n[33] \"star_wars_matrix\"          \"star_wars_matrix2\"        \n[35] \"titles\"                    \"total_daily\"              \n[37] \"total_poker\"               \"total_roulette\"           \n[39] \"total_vector\"              \"total_week\"               \n[41] \"vegas\"                     \"worldwide_vector\"         \n[43] \"x\"                         \"y\"                        ",
            "text/latex": "\\begin{enumerate*}\n\\item 'A\\_vector'\n\\item 'all\\_wars\\_matrix'\n\\item 'attack\\_clones'\n\\item 'B\\_vector'\n\\item 'boolean\\_vector'\n\\item 'box\\_office'\n\\item 'box\\_office2'\n\\item 'character\\_vector'\n\\item 'days\\_vector'\n\\item 'empire\\_strikes'\n\\item 'my\\_apples'\n\\item 'my\\_character'\n\\item 'my\\_fruit'\n\\item 'my\\_logical'\n\\item 'my\\_numeric'\n\\item 'my\\_oranges'\n\\item 'names'\n\\item 'new\\_hope'\n\\item 'numeric\\_vector'\n\\item 'phantom\\_menace'\n\\item 'poker\\_midweek'\n\\item 'poker\\_start'\n\\item 'poker\\_vector'\n\\item 'poker\\_wednesday'\n\\item 'poker\\_winning\\_days'\n\\item 'region'\n\\item 'return\\_jedi'\n\\item 'revenge\\_sith'\n\\item 'roulette\\_selection\\_vector'\n\\item 'roulette\\_vector'\n\\item 'roulette\\_winning\\_days'\n\\item 'selection\\_vector'\n\\item 'star\\_wars\\_matrix'\n\\item 'star\\_wars\\_matrix2'\n\\item 'titles'\n\\item 'total\\_daily'\n\\item 'total\\_poker'\n\\item 'total\\_roulette'\n\\item 'total\\_vector'\n\\item 'total\\_week'\n\\item 'vegas'\n\\item 'worldwide\\_vector'\n\\item 'x'\n\\item 'y'\n\\end{enumerate*}\n",
            "text/markdown": "1. 'A_vector'\n2. 'all_wars_matrix'\n3. 'attack_clones'\n4. 'B_vector'\n5. 'boolean_vector'\n6. 'box_office'\n7. 'box_office2'\n8. 'character_vector'\n9. 'days_vector'\n10. 'empire_strikes'\n11. 'my_apples'\n12. 'my_character'\n13. 'my_fruit'\n14. 'my_logical'\n15. 'my_numeric'\n16. 'my_oranges'\n17. 'names'\n18. 'new_hope'\n19. 'numeric_vector'\n20. 'phantom_menace'\n21. 'poker_midweek'\n22. 'poker_start'\n23. 'poker_vector'\n24. 'poker_wednesday'\n25. 'poker_winning_days'\n26. 'region'\n27. 'return_jedi'\n28. 'revenge_sith'\n29. 'roulette_selection_vector'\n30. 'roulette_vector'\n31. 'roulette_winning_days'\n32. 'selection_vector'\n33. 'star_wars_matrix'\n34. 'star_wars_matrix2'\n35. 'titles'\n36. 'total_daily'\n37. 'total_poker'\n38. 'total_roulette'\n39. 'total_vector'\n40. 'total_week'\n41. 'vegas'\n42. 'worldwide_vector'\n43. 'x'\n44. 'y'\n\n\n",
            "text/html": "<ol class=list-inline>\n\t<li>'A_vector'</li>\n\t<li>'all_wars_matrix'</li>\n\t<li>'attack_clones'</li>\n\t<li>'B_vector'</li>\n\t<li>'boolean_vector'</li>\n\t<li>'box_office'</li>\n\t<li>'box_office2'</li>\n\t<li>'character_vector'</li>\n\t<li>'days_vector'</li>\n\t<li>'empire_strikes'</li>\n\t<li>'my_apples'</li>\n\t<li>'my_character'</li>\n\t<li>'my_fruit'</li>\n\t<li>'my_logical'</li>\n\t<li>'my_numeric'</li>\n\t<li>'my_oranges'</li>\n\t<li>'names'</li>\n\t<li>'new_hope'</li>\n\t<li>'numeric_vector'</li>\n\t<li>'phantom_menace'</li>\n\t<li>'poker_midweek'</li>\n\t<li>'poker_start'</li>\n\t<li>'poker_vector'</li>\n\t<li>'poker_wednesday'</li>\n\t<li>'poker_winning_days'</li>\n\t<li>'region'</li>\n\t<li>'return_jedi'</li>\n\t<li>'revenge_sith'</li>\n\t<li>'roulette_selection_vector'</li>\n\t<li>'roulette_vector'</li>\n\t<li>'roulette_winning_days'</li>\n\t<li>'selection_vector'</li>\n\t<li>'star_wars_matrix'</li>\n\t<li>'star_wars_matrix2'</li>\n\t<li>'titles'</li>\n\t<li>'total_daily'</li>\n\t<li>'total_poker'</li>\n\t<li>'total_roulette'</li>\n\t<li>'total_vector'</li>\n\t<li>'total_week'</li>\n\t<li>'vegas'</li>\n\t<li>'worldwide_vector'</li>\n\t<li>'x'</li>\n\t<li>'y'</li>\n</ol>\n"
          },
          "metadata": {}
        }
      ]
    },
    {
      "metadata": {
        "trusted": true
      },
      "cell_type": "code",
      "source": "# all_wars_matrix is available in your workspace\nall_wars_matrix\n\n# Total revenue for US and non-US\ntotal_revenue_vector <- colSums(all_wars_matrix)\n  \n# Print out total_revenue_vector\ntotal_revenue_vector",
      "execution_count": 80,
      "outputs": [
        {
          "output_type": "display_data",
          "data": {
            "text/plain": "                        US      non-US\nA New Hope              460.998 314.4 \nThe Empire Strikes Back 290.475 247.9 \nReturn of the Jedi      309.306 165.8 \nThe Phantom Menace      474.500 552.5 \nAttack of the Clones    310.700 338.7 \nRevenge of the Sith     380.300 468.5 ",
            "text/latex": "A matrix: 6 x 2 of type dbl\n\\begin{tabular}{r|ll}\n  & US & non-US\\\\\n\\hline\n\tA New Hope & 460.998 & 314.4\\\\\n\tThe Empire Strikes Back & 290.475 & 247.9\\\\\n\tReturn of the Jedi & 309.306 & 165.8\\\\\n\tThe Phantom Menace & 474.500 & 552.5\\\\\n\tAttack of the Clones & 310.700 & 338.7\\\\\n\tRevenge of the Sith & 380.300 & 468.5\\\\\n\\end{tabular}\n",
            "text/markdown": "\nA matrix: 6 x 2 of type dbl\n\n| <!--/--> | US | non-US |\n|---|---|---|\n| A New Hope | 460.998 | 314.4 |\n| The Empire Strikes Back | 290.475 | 247.9 |\n| Return of the Jedi | 309.306 | 165.8 |\n| The Phantom Menace | 474.500 | 552.5 |\n| Attack of the Clones | 310.700 | 338.7 |\n| Revenge of the Sith | 380.300 | 468.5 |\n\n",
            "text/html": "<table>\n<caption>A matrix: 6 x 2 of type dbl</caption>\n<thead>\n\t<tr><th></th><th scope=col>US</th><th scope=col>non-US</th></tr>\n</thead>\n<tbody>\n\t<tr><th scope=row>A New Hope</th><td>460.998</td><td>314.4</td></tr>\n\t<tr><th scope=row>The Empire Strikes Back</th><td>290.475</td><td>247.9</td></tr>\n\t<tr><th scope=row>Return of the Jedi</th><td>309.306</td><td>165.8</td></tr>\n\t<tr><th scope=row>The Phantom Menace</th><td>474.500</td><td>552.5</td></tr>\n\t<tr><th scope=row>Attack of the Clones</th><td>310.700</td><td>338.7</td></tr>\n\t<tr><th scope=row>Revenge of the Sith</th><td>380.300</td><td>468.5</td></tr>\n</tbody>\n</table>\n"
          },
          "metadata": {}
        },
        {
          "output_type": "display_data",
          "data": {
            "text/plain": "      US   non-US \n2226.279 2087.800 ",
            "text/latex": "\\begin{description*}\n\\item[US] 2226.279\n\\item[non-US] 2087.8\n\\end{description*}\n",
            "text/markdown": "US\n:   2226.279non-US\n:   2087.8\n\n",
            "text/html": "<dl class=dl-horizontal>\n\t<dt>US</dt>\n\t\t<dd>2226.279</dd>\n\t<dt>non-US</dt>\n\t\t<dd>2087.8</dd>\n</dl>\n"
          },
          "metadata": {}
        }
      ]
    },
    {
      "metadata": {
        "trusted": true
      },
      "cell_type": "code",
      "source": "# all_wars_matrix is available in your workspace\nall_wars_matrix\n\n# Select the non-US revenue for all movies\nnon_us_all <- all_wars_matrix[,2]\nnon_us_all  \n# Average non-US revenue\nprint(\"Average non-US revenue\")\nmean(non_us_all)\n  \n# Select the non-US revenue for first two movies\nnon_us_some <- all_wars_matrix[1:2,2]\nnon_us_some  \n# Average non-US revenue for first two movies\nprint(\"Average non-US revenue for first two movies\")\nmean(non_us_some)\n",
      "execution_count": 84,
      "outputs": [
        {
          "output_type": "display_data",
          "data": {
            "text/plain": "                        US      non-US\nA New Hope              460.998 314.4 \nThe Empire Strikes Back 290.475 247.9 \nReturn of the Jedi      309.306 165.8 \nThe Phantom Menace      474.500 552.5 \nAttack of the Clones    310.700 338.7 \nRevenge of the Sith     380.300 468.5 ",
            "text/latex": "A matrix: 6 x 2 of type dbl\n\\begin{tabular}{r|ll}\n  & US & non-US\\\\\n\\hline\n\tA New Hope & 460.998 & 314.4\\\\\n\tThe Empire Strikes Back & 290.475 & 247.9\\\\\n\tReturn of the Jedi & 309.306 & 165.8\\\\\n\tThe Phantom Menace & 474.500 & 552.5\\\\\n\tAttack of the Clones & 310.700 & 338.7\\\\\n\tRevenge of the Sith & 380.300 & 468.5\\\\\n\\end{tabular}\n",
            "text/markdown": "\nA matrix: 6 x 2 of type dbl\n\n| <!--/--> | US | non-US |\n|---|---|---|\n| A New Hope | 460.998 | 314.4 |\n| The Empire Strikes Back | 290.475 | 247.9 |\n| Return of the Jedi | 309.306 | 165.8 |\n| The Phantom Menace | 474.500 | 552.5 |\n| Attack of the Clones | 310.700 | 338.7 |\n| Revenge of the Sith | 380.300 | 468.5 |\n\n",
            "text/html": "<table>\n<caption>A matrix: 6 x 2 of type dbl</caption>\n<thead>\n\t<tr><th></th><th scope=col>US</th><th scope=col>non-US</th></tr>\n</thead>\n<tbody>\n\t<tr><th scope=row>A New Hope</th><td>460.998</td><td>314.4</td></tr>\n\t<tr><th scope=row>The Empire Strikes Back</th><td>290.475</td><td>247.9</td></tr>\n\t<tr><th scope=row>Return of the Jedi</th><td>309.306</td><td>165.8</td></tr>\n\t<tr><th scope=row>The Phantom Menace</th><td>474.500</td><td>552.5</td></tr>\n\t<tr><th scope=row>Attack of the Clones</th><td>310.700</td><td>338.7</td></tr>\n\t<tr><th scope=row>Revenge of the Sith</th><td>380.300</td><td>468.5</td></tr>\n</tbody>\n</table>\n"
          },
          "metadata": {}
        },
        {
          "output_type": "display_data",
          "data": {
            "text/plain": "             A New Hope The Empire Strikes Back      Return of the Jedi \n                  314.4                   247.9                   165.8 \n     The Phantom Menace    Attack of the Clones     Revenge of the Sith \n                  552.5                   338.7                   468.5 ",
            "text/latex": "\\begin{description*}\n\\item[A New Hope] 314.4\n\\item[The Empire Strikes Back] 247.9\n\\item[Return of the Jedi] 165.8\n\\item[The Phantom Menace] 552.5\n\\item[Attack of the Clones] 338.7\n\\item[Revenge of the Sith] 468.5\n\\end{description*}\n",
            "text/markdown": "A New Hope\n:   314.4The Empire Strikes Back\n:   247.9Return of the Jedi\n:   165.8The Phantom Menace\n:   552.5Attack of the Clones\n:   338.7Revenge of the Sith\n:   468.5\n\n",
            "text/html": "<dl class=dl-horizontal>\n\t<dt>A New Hope</dt>\n\t\t<dd>314.4</dd>\n\t<dt>The Empire Strikes Back</dt>\n\t\t<dd>247.9</dd>\n\t<dt>Return of the Jedi</dt>\n\t\t<dd>165.8</dd>\n\t<dt>The Phantom Menace</dt>\n\t\t<dd>552.5</dd>\n\t<dt>Attack of the Clones</dt>\n\t\t<dd>338.7</dd>\n\t<dt>Revenge of the Sith</dt>\n\t\t<dd>468.5</dd>\n</dl>\n"
          },
          "metadata": {}
        },
        {
          "output_type": "stream",
          "text": "[1] \"Average non-US revenue\"\n",
          "name": "stdout"
        },
        {
          "output_type": "display_data",
          "data": {
            "text/plain": "[1] 347.9667",
            "text/latex": "347.966666666667",
            "text/markdown": "347.966666666667",
            "text/html": "347.966666666667"
          },
          "metadata": {}
        },
        {
          "output_type": "display_data",
          "data": {
            "text/plain": "             A New Hope The Empire Strikes Back \n                  314.4                   247.9 ",
            "text/latex": "\\begin{description*}\n\\item[A New Hope] 314.4\n\\item[The Empire Strikes Back] 247.9\n\\end{description*}\n",
            "text/markdown": "A New Hope\n:   314.4The Empire Strikes Back\n:   247.9\n\n",
            "text/html": "<dl class=dl-horizontal>\n\t<dt>A New Hope</dt>\n\t\t<dd>314.4</dd>\n\t<dt>The Empire Strikes Back</dt>\n\t\t<dd>247.9</dd>\n</dl>\n"
          },
          "metadata": {}
        },
        {
          "output_type": "stream",
          "text": "[1] \"Average non-US revenue for first two movies\"\n",
          "name": "stdout"
        },
        {
          "output_type": "display_data",
          "data": {
            "text/plain": "[1] 281.15",
            "text/latex": "281.15",
            "text/markdown": "281.15",
            "text/html": "281.15"
          },
          "metadata": {}
        }
      ]
    },
    {
      "metadata": {
        "trusted": true
      },
      "cell_type": "code",
      "source": "# all_wars_matrix is available in your workspace\nall_wars_matrix\n\n# Estimate the visitors\nvisitors <- all_wars_matrix/5\n  \n# Print the estimate to the console\nvisitors",
      "execution_count": 85,
      "outputs": [
        {
          "output_type": "display_data",
          "data": {
            "text/plain": "                        US      non-US\nA New Hope              460.998 314.4 \nThe Empire Strikes Back 290.475 247.9 \nReturn of the Jedi      309.306 165.8 \nThe Phantom Menace      474.500 552.5 \nAttack of the Clones    310.700 338.7 \nRevenge of the Sith     380.300 468.5 ",
            "text/latex": "A matrix: 6 x 2 of type dbl\n\\begin{tabular}{r|ll}\n  & US & non-US\\\\\n\\hline\n\tA New Hope & 460.998 & 314.4\\\\\n\tThe Empire Strikes Back & 290.475 & 247.9\\\\\n\tReturn of the Jedi & 309.306 & 165.8\\\\\n\tThe Phantom Menace & 474.500 & 552.5\\\\\n\tAttack of the Clones & 310.700 & 338.7\\\\\n\tRevenge of the Sith & 380.300 & 468.5\\\\\n\\end{tabular}\n",
            "text/markdown": "\nA matrix: 6 x 2 of type dbl\n\n| <!--/--> | US | non-US |\n|---|---|---|\n| A New Hope | 460.998 | 314.4 |\n| The Empire Strikes Back | 290.475 | 247.9 |\n| Return of the Jedi | 309.306 | 165.8 |\n| The Phantom Menace | 474.500 | 552.5 |\n| Attack of the Clones | 310.700 | 338.7 |\n| Revenge of the Sith | 380.300 | 468.5 |\n\n",
            "text/html": "<table>\n<caption>A matrix: 6 x 2 of type dbl</caption>\n<thead>\n\t<tr><th></th><th scope=col>US</th><th scope=col>non-US</th></tr>\n</thead>\n<tbody>\n\t<tr><th scope=row>A New Hope</th><td>460.998</td><td>314.4</td></tr>\n\t<tr><th scope=row>The Empire Strikes Back</th><td>290.475</td><td>247.9</td></tr>\n\t<tr><th scope=row>Return of the Jedi</th><td>309.306</td><td>165.8</td></tr>\n\t<tr><th scope=row>The Phantom Menace</th><td>474.500</td><td>552.5</td></tr>\n\t<tr><th scope=row>Attack of the Clones</th><td>310.700</td><td>338.7</td></tr>\n\t<tr><th scope=row>Revenge of the Sith</th><td>380.300</td><td>468.5</td></tr>\n</tbody>\n</table>\n"
          },
          "metadata": {}
        },
        {
          "output_type": "display_data",
          "data": {
            "text/plain": "                        US      non-US\nA New Hope              92.1996  62.88\nThe Empire Strikes Back 58.0950  49.58\nReturn of the Jedi      61.8612  33.16\nThe Phantom Menace      94.9000 110.50\nAttack of the Clones    62.1400  67.74\nRevenge of the Sith     76.0600  93.70",
            "text/latex": "A matrix: 6 x 2 of type dbl\n\\begin{tabular}{r|ll}\n  & US & non-US\\\\\n\\hline\n\tA New Hope & 92.1996 &  62.88\\\\\n\tThe Empire Strikes Back & 58.0950 &  49.58\\\\\n\tReturn of the Jedi & 61.8612 &  33.16\\\\\n\tThe Phantom Menace & 94.9000 & 110.50\\\\\n\tAttack of the Clones & 62.1400 &  67.74\\\\\n\tRevenge of the Sith & 76.0600 &  93.70\\\\\n\\end{tabular}\n",
            "text/markdown": "\nA matrix: 6 x 2 of type dbl\n\n| <!--/--> | US | non-US |\n|---|---|---|\n| A New Hope | 92.1996 |  62.88 |\n| The Empire Strikes Back | 58.0950 |  49.58 |\n| Return of the Jedi | 61.8612 |  33.16 |\n| The Phantom Menace | 94.9000 | 110.50 |\n| Attack of the Clones | 62.1400 |  67.74 |\n| Revenge of the Sith | 76.0600 |  93.70 |\n\n",
            "text/html": "<table>\n<caption>A matrix: 6 x 2 of type dbl</caption>\n<thead>\n\t<tr><th></th><th scope=col>US</th><th scope=col>non-US</th></tr>\n</thead>\n<tbody>\n\t<tr><th scope=row>A New Hope</th><td>92.1996</td><td> 62.88</td></tr>\n\t<tr><th scope=row>The Empire Strikes Back</th><td>58.0950</td><td> 49.58</td></tr>\n\t<tr><th scope=row>Return of the Jedi</th><td>61.8612</td><td> 33.16</td></tr>\n\t<tr><th scope=row>The Phantom Menace</th><td>94.9000</td><td>110.50</td></tr>\n\t<tr><th scope=row>Attack of the Clones</th><td>62.1400</td><td> 67.74</td></tr>\n\t<tr><th scope=row>Revenge of the Sith</th><td>76.0600</td><td> 93.70</td></tr>\n</tbody>\n</table>\n"
          },
          "metadata": {}
        }
      ]
    },
    {
      "metadata": {
        "trusted": true
      },
      "cell_type": "code",
      "source": "# create ticket_prices_matrix\n\n",
      "execution_count": null,
      "outputs": []
    },
    {
      "metadata": {
        "trusted": true
      },
      "cell_type": "code",
      "source": "tp_new_hope <- c(5.0, 5.0)\ntp_empire_strikes <- c(6.0, 6.0)\ntp_return_jedi <- c(7.0, 7.0)\ntp_phantom_menace <- c(4.0, 4.0)\ntp_attack_clones <- c(4.5, 4.5)\ntp_revenge_sith <- c(4.9, 4.9)\n\nticket_prices = c(tp_new_hope, tp_empire_strikes, tp_return_jedi, \n                tp_phantom_menace, tp_attack_clones, tp_revenge_sith)\n\nticket_prices_matrix = matrix(ticket_prices, nrow=6, byrow = TRUE)\n\n# Vectors region and titles, used for naming\nregion <- c(\"US\", \"non-US\")\ntotal_titles <- c(\"A New Hope\",\"The Empire Strikes Back\", \"Return of the Jedi\" ,\"The Phantom Menace\", \"Attack of the Clones\", \"Revenge of the Sith\")\n\n# Name the columns with region\n\ncolnames(ticket_prices_matrix)<- region\n# Name the rows with total_titles\nrownames(ticket_prices_matrix)<- total_titles\n# Print out ticket_prices_matrix\n\nticket_prices_matrix",
      "execution_count": 89,
      "outputs": [
        {
          "output_type": "display_data",
          "data": {
            "text/plain": "                        US  non-US\nA New Hope              5.0 5.0   \nThe Empire Strikes Back 6.0 6.0   \nReturn of the Jedi      7.0 7.0   \nThe Phantom Menace      4.0 4.0   \nAttack of the Clones    4.5 4.5   \nRevenge of the Sith     4.9 4.9   ",
            "text/latex": "A matrix: 6 x 2 of type dbl\n\\begin{tabular}{r|ll}\n  & US & non-US\\\\\n\\hline\n\tA New Hope & 5.0 & 5.0\\\\\n\tThe Empire Strikes Back & 6.0 & 6.0\\\\\n\tReturn of the Jedi & 7.0 & 7.0\\\\\n\tThe Phantom Menace & 4.0 & 4.0\\\\\n\tAttack of the Clones & 4.5 & 4.5\\\\\n\tRevenge of the Sith & 4.9 & 4.9\\\\\n\\end{tabular}\n",
            "text/markdown": "\nA matrix: 6 x 2 of type dbl\n\n| <!--/--> | US | non-US |\n|---|---|---|\n| A New Hope | 5.0 | 5.0 |\n| The Empire Strikes Back | 6.0 | 6.0 |\n| Return of the Jedi | 7.0 | 7.0 |\n| The Phantom Menace | 4.0 | 4.0 |\n| Attack of the Clones | 4.5 | 4.5 |\n| Revenge of the Sith | 4.9 | 4.9 |\n\n",
            "text/html": "<table>\n<caption>A matrix: 6 x 2 of type dbl</caption>\n<thead>\n\t<tr><th></th><th scope=col>US</th><th scope=col>non-US</th></tr>\n</thead>\n<tbody>\n\t<tr><th scope=row>A New Hope</th><td>5.0</td><td>5.0</td></tr>\n\t<tr><th scope=row>The Empire Strikes Back</th><td>6.0</td><td>6.0</td></tr>\n\t<tr><th scope=row>Return of the Jedi</th><td>7.0</td><td>7.0</td></tr>\n\t<tr><th scope=row>The Phantom Menace</th><td>4.0</td><td>4.0</td></tr>\n\t<tr><th scope=row>Attack of the Clones</th><td>4.5</td><td>4.5</td></tr>\n\t<tr><th scope=row>Revenge of the Sith</th><td>4.9</td><td>4.9</td></tr>\n</tbody>\n</table>\n"
          },
          "metadata": {}
        }
      ]
    },
    {
      "metadata": {
        "trusted": true
      },
      "cell_type": "code",
      "source": "# all_wars_matrix and ticket_prices_matrix are available in your workspace\nall_wars_matrix\nticket_prices_matrix\n\n# Estimated number of visitors\nvisitors <- all_wars_matrix/ticket_prices_matrix\nvisitors\n# US visitors\nus_visitors <- visitors[,1]\n\n# Average number of US visitors\nmean(us_visitors)\n",
      "execution_count": 90,
      "outputs": [
        {
          "output_type": "display_data",
          "data": {
            "text/plain": "                        US      non-US\nA New Hope              460.998 314.4 \nThe Empire Strikes Back 290.475 247.9 \nReturn of the Jedi      309.306 165.8 \nThe Phantom Menace      474.500 552.5 \nAttack of the Clones    310.700 338.7 \nRevenge of the Sith     380.300 468.5 ",
            "text/latex": "A matrix: 6 x 2 of type dbl\n\\begin{tabular}{r|ll}\n  & US & non-US\\\\\n\\hline\n\tA New Hope & 460.998 & 314.4\\\\\n\tThe Empire Strikes Back & 290.475 & 247.9\\\\\n\tReturn of the Jedi & 309.306 & 165.8\\\\\n\tThe Phantom Menace & 474.500 & 552.5\\\\\n\tAttack of the Clones & 310.700 & 338.7\\\\\n\tRevenge of the Sith & 380.300 & 468.5\\\\\n\\end{tabular}\n",
            "text/markdown": "\nA matrix: 6 x 2 of type dbl\n\n| <!--/--> | US | non-US |\n|---|---|---|\n| A New Hope | 460.998 | 314.4 |\n| The Empire Strikes Back | 290.475 | 247.9 |\n| Return of the Jedi | 309.306 | 165.8 |\n| The Phantom Menace | 474.500 | 552.5 |\n| Attack of the Clones | 310.700 | 338.7 |\n| Revenge of the Sith | 380.300 | 468.5 |\n\n",
            "text/html": "<table>\n<caption>A matrix: 6 x 2 of type dbl</caption>\n<thead>\n\t<tr><th></th><th scope=col>US</th><th scope=col>non-US</th></tr>\n</thead>\n<tbody>\n\t<tr><th scope=row>A New Hope</th><td>460.998</td><td>314.4</td></tr>\n\t<tr><th scope=row>The Empire Strikes Back</th><td>290.475</td><td>247.9</td></tr>\n\t<tr><th scope=row>Return of the Jedi</th><td>309.306</td><td>165.8</td></tr>\n\t<tr><th scope=row>The Phantom Menace</th><td>474.500</td><td>552.5</td></tr>\n\t<tr><th scope=row>Attack of the Clones</th><td>310.700</td><td>338.7</td></tr>\n\t<tr><th scope=row>Revenge of the Sith</th><td>380.300</td><td>468.5</td></tr>\n</tbody>\n</table>\n"
          },
          "metadata": {}
        },
        {
          "output_type": "display_data",
          "data": {
            "text/plain": "                        US  non-US\nA New Hope              5.0 5.0   \nThe Empire Strikes Back 6.0 6.0   \nReturn of the Jedi      7.0 7.0   \nThe Phantom Menace      4.0 4.0   \nAttack of the Clones    4.5 4.5   \nRevenge of the Sith     4.9 4.9   ",
            "text/latex": "A matrix: 6 x 2 of type dbl\n\\begin{tabular}{r|ll}\n  & US & non-US\\\\\n\\hline\n\tA New Hope & 5.0 & 5.0\\\\\n\tThe Empire Strikes Back & 6.0 & 6.0\\\\\n\tReturn of the Jedi & 7.0 & 7.0\\\\\n\tThe Phantom Menace & 4.0 & 4.0\\\\\n\tAttack of the Clones & 4.5 & 4.5\\\\\n\tRevenge of the Sith & 4.9 & 4.9\\\\\n\\end{tabular}\n",
            "text/markdown": "\nA matrix: 6 x 2 of type dbl\n\n| <!--/--> | US | non-US |\n|---|---|---|\n| A New Hope | 5.0 | 5.0 |\n| The Empire Strikes Back | 6.0 | 6.0 |\n| Return of the Jedi | 7.0 | 7.0 |\n| The Phantom Menace | 4.0 | 4.0 |\n| Attack of the Clones | 4.5 | 4.5 |\n| Revenge of the Sith | 4.9 | 4.9 |\n\n",
            "text/html": "<table>\n<caption>A matrix: 6 x 2 of type dbl</caption>\n<thead>\n\t<tr><th></th><th scope=col>US</th><th scope=col>non-US</th></tr>\n</thead>\n<tbody>\n\t<tr><th scope=row>A New Hope</th><td>5.0</td><td>5.0</td></tr>\n\t<tr><th scope=row>The Empire Strikes Back</th><td>6.0</td><td>6.0</td></tr>\n\t<tr><th scope=row>Return of the Jedi</th><td>7.0</td><td>7.0</td></tr>\n\t<tr><th scope=row>The Phantom Menace</th><td>4.0</td><td>4.0</td></tr>\n\t<tr><th scope=row>Attack of the Clones</th><td>4.5</td><td>4.5</td></tr>\n\t<tr><th scope=row>Revenge of the Sith</th><td>4.9</td><td>4.9</td></tr>\n</tbody>\n</table>\n"
          },
          "metadata": {}
        },
        {
          "output_type": "display_data",
          "data": {
            "text/plain": "                        US        non-US   \nA New Hope               92.19960  62.88000\nThe Empire Strikes Back  48.41250  41.31667\nReturn of the Jedi       44.18657  23.68571\nThe Phantom Menace      118.62500 138.12500\nAttack of the Clones     69.04444  75.26667\nRevenge of the Sith      77.61224  95.61224",
            "text/latex": "A matrix: 6 x 2 of type dbl\n\\begin{tabular}{r|ll}\n  & US & non-US\\\\\n\\hline\n\tA New Hope &  92.19960 &  62.88000\\\\\n\tThe Empire Strikes Back &  48.41250 &  41.31667\\\\\n\tReturn of the Jedi &  44.18657 &  23.68571\\\\\n\tThe Phantom Menace & 118.62500 & 138.12500\\\\\n\tAttack of the Clones &  69.04444 &  75.26667\\\\\n\tRevenge of the Sith &  77.61224 &  95.61224\\\\\n\\end{tabular}\n",
            "text/markdown": "\nA matrix: 6 x 2 of type dbl\n\n| <!--/--> | US | non-US |\n|---|---|---|\n| A New Hope |  92.19960 |  62.88000 |\n| The Empire Strikes Back |  48.41250 |  41.31667 |\n| Return of the Jedi |  44.18657 |  23.68571 |\n| The Phantom Menace | 118.62500 | 138.12500 |\n| Attack of the Clones |  69.04444 |  75.26667 |\n| Revenge of the Sith |  77.61224 |  95.61224 |\n\n",
            "text/html": "<table>\n<caption>A matrix: 6 x 2 of type dbl</caption>\n<thead>\n\t<tr><th></th><th scope=col>US</th><th scope=col>non-US</th></tr>\n</thead>\n<tbody>\n\t<tr><th scope=row>A New Hope</th><td> 92.19960</td><td> 62.88000</td></tr>\n\t<tr><th scope=row>The Empire Strikes Back</th><td> 48.41250</td><td> 41.31667</td></tr>\n\t<tr><th scope=row>Return of the Jedi</th><td> 44.18657</td><td> 23.68571</td></tr>\n\t<tr><th scope=row>The Phantom Menace</th><td>118.62500</td><td>138.12500</td></tr>\n\t<tr><th scope=row>Attack of the Clones</th><td> 69.04444</td><td> 75.26667</td></tr>\n\t<tr><th scope=row>Revenge of the Sith</th><td> 77.61224</td><td> 95.61224</td></tr>\n</tbody>\n</table>\n"
          },
          "metadata": {}
        },
        {
          "output_type": "display_data",
          "data": {
            "text/plain": "[1] 75.01339",
            "text/latex": "75.0133934618292",
            "text/markdown": "75.0133934618292",
            "text/html": "75.0133934618292"
          },
          "metadata": {}
        }
      ]
    },
    {
      "metadata": {
        "trusted": true
      },
      "cell_type": "code",
      "source": "",
      "execution_count": null,
      "outputs": []
    }
  ],
  "metadata": {
    "kernelspec": {
      "name": "r",
      "display_name": "R",
      "language": "R"
    },
    "language_info": {
      "mimetype": "text/x-r-source",
      "name": "R",
      "pygments_lexer": "r",
      "version": "3.5.3",
      "file_extension": ".r",
      "codemirror_mode": "r"
    }
  },
  "nbformat": 4,
  "nbformat_minor": 2
}