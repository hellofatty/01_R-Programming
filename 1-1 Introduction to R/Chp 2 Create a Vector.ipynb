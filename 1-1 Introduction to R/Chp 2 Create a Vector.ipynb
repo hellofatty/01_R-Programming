{
  "cells": [
    {
      "metadata": {},
      "cell_type": "markdown",
      "source": "## Chp 2 Create a vector"
    },
    {
      "metadata": {
        "trusted": true
      },
      "cell_type": "code",
      "source": "# Define the variable vegas\nvegas <- \"Go!\"\nprint(vegas)",
      "execution_count": 20,
      "outputs": [
        {
          "output_type": "stream",
          "text": "[1] \"Go!\"\n",
          "name": "stdout"
        }
      ]
    },
    {
      "metadata": {},
      "cell_type": "markdown",
      "source": "### Create a vector (2)\nLet us focus first!\n\nOn your way from rags to riches, you will make extensive use of vectors. Vectors are one-dimension arrays that can hold numeric data, character data, or logical data. In other words, a vector is a simple tool to store data. For example, you can store your daily gains and losses in the casinos.\n\nIn R, you create a vector with the combine function `c()`. You place the vector elements separated by a comma between the parentheses. For example:\n\n> `numeric_vector <- c(1, 2, 3)`<br>\n> `character_vector <- c(\"a\", \"b\", \"c\")`\n\nOnce you have created these vectors in R, you can use them to do calculations."
    },
    {
      "metadata": {
        "trusted": true
      },
      "cell_type": "code",
      "source": "numeric_vector <- c(1, 10, 49)\ncharacter_vector <- c(\"a\", \"b\", \"c\")\n\n# Complete the code for boolean_vector\nboolean_vector <- c(TRUE, FALSE, TRUE)\n\nprint(numeric_vector)\nprint(character_vector)\nprint(boolean_vector)",
      "execution_count": 21,
      "outputs": [
        {
          "output_type": "stream",
          "text": "[1]  1 10 49\n[1] \"a\" \"b\" \"c\"\n[1]  TRUE FALSE  TRUE\n",
          "name": "stdout"
        }
      ]
    },
    {
      "metadata": {
        "trusted": true
      },
      "cell_type": "code",
      "source": "# Poker winnings from Monday to Friday\npoker_vector <- c(140, -50, 20, -120, 240)\n\n# Roulette winnings from Monday to Friday\nroulette_vector <- c(-24, -50, 100, -350, 10) \n\nprint(poker_vector)\nprint(roulette_vector)",
      "execution_count": 25,
      "outputs": [
        {
          "output_type": "stream",
          "text": "[1]  140  -50   20 -120  240\n[1]  -24  -50  100 -350   10\n",
          "name": "stdout"
        }
      ]
    },
    {
      "metadata": {
        "trusted": true
      },
      "cell_type": "code",
      "source": "# Assign days as names of poker_vector\nnames(poker_vector) <- c(\"Monday\", \"Tuesday\", \"Wednesday\", \"Thursday\", \"Friday\")\n\n# Assign days as names of roulette_vector\nnames(roulette_vector) <- c(\"Monday\", \"Tuesday\", \"Wednesday\", \"Thursday\", \"Friday\")\n\nprint(poker_vector)\nprint(roulette_vector)",
      "execution_count": 31,
      "outputs": [
        {
          "output_type": "stream",
          "text": "   Monday   Tuesday Wednesday  Thursday    Friday \n      140       -50        20      -120       240 \n   Monday   Tuesday Wednesday  Thursday    Friday \n      -24       -50       100      -350        10 \n",
          "name": "stdout"
        }
      ]
    },
    {
      "metadata": {
        "trusted": true
      },
      "cell_type": "code",
      "source": "# Assign days as names of poker_vector\nnames = c(\"Monday\", \"Tuesday\", \"Wednesday\", \"Thursday\", \"Friday\")\n\nnames(poker_vector) <- names\n\n# Assign days as names of roulette_vector\nnames(roulette_vector) <- names\n\nprint(poker_vector)\nprint(roulette_vector)",
      "execution_count": 32,
      "outputs": [
        {
          "output_type": "stream",
          "text": "   Monday   Tuesday Wednesday  Thursday    Friday \n      140       -50        20      -120       240 \n   Monday   Tuesday Wednesday  Thursday    Friday \n      -24       -50       100      -350        10 \n",
          "name": "stdout"
        }
      ]
    },
    {
      "metadata": {
        "trusted": true
      },
      "cell_type": "code",
      "source": "A_vector <- c(1, 2, 3)\nB_vector <- c(4, 5, 6)\n\n# Take the sum of A_vector and B_vector\ntotal_vector <- A_vector + B_vector\n  \n# Print out total_vector\nprint(total_vector)",
      "execution_count": 33,
      "outputs": [
        {
          "output_type": "stream",
          "text": "[1] 5 7 9\n",
          "name": "stdout"
        }
      ]
    },
    {
      "metadata": {
        "trusted": true
      },
      "cell_type": "code",
      "source": "# Poker and roulette winnings from Monday to Friday:\npoker_vector <- c(140, -50, 20, -120, 240)\nroulette_vector <- c(-24, -50, 100, -350, 10)\ndays_vector <- c(\"Monday\", \"Tuesday\", \"Wednesday\", \"Thursday\", \"Friday\")\nnames(poker_vector) <- days_vector\nnames(roulette_vector) <- days_vector\n\n# Assign to total_daily how much you won/lost on each day\ntotal_daily <- poker_vector + roulette_vector\nprint(total_daily)",
      "execution_count": 34,
      "outputs": [
        {
          "output_type": "stream",
          "text": "   Monday   Tuesday Wednesday  Thursday    Friday \n      116      -100       120      -470       250 \n",
          "name": "stdout"
        }
      ]
    },
    {
      "metadata": {
        "trusted": true
      },
      "cell_type": "code",
      "source": "# Total winnings with poker\ntotal_poker <- sum(poker_vector)\nprint(total_poker)\n# Total winnings with roulette\ntotal_roulette <-  sum(roulette_vector)\nprint(total_roulette)\n# Total winnings overall\ntotal_week <- total_poker+ total_roulette\n\n# Print out total_week\nprint(total_week)  ",
      "execution_count": 38,
      "outputs": [
        {
          "output_type": "stream",
          "text": "[1] 230\n[1] -314\n[1] -84\n",
          "name": "stdout"
        }
      ]
    },
    {
      "metadata": {
        "trusted": true
      },
      "cell_type": "code",
      "source": "# Check if you realized higher total gains in poker than in roulette \ntotal_poker>total_roulette",
      "execution_count": 39,
      "outputs": [
        {
          "output_type": "display_data",
          "data": {
            "text/plain": "[1] TRUE",
            "text/latex": "TRUE",
            "text/markdown": "TRUE",
            "text/html": "TRUE"
          },
          "metadata": {}
        }
      ]
    },
    {
      "metadata": {
        "trusted": true
      },
      "cell_type": "code",
      "source": "# Define a new variable based on a selection\nprint(poker_vector)\npoker_wednesday <- poker_vector[3] # In R, the first index starts from 1 instead of 0 like python\nprint(poker_wednesday)",
      "execution_count": 42,
      "outputs": [
        {
          "output_type": "stream",
          "text": "   Monday   Tuesday Wednesday  Thursday    Friday \n      140       -50        20      -120       240 \nWednesday \n       20 \n",
          "name": "stdout"
        }
      ]
    },
    {
      "metadata": {
        "trusted": true
      },
      "cell_type": "code",
      "source": "# Define a new variable based on a selection\npoker_midweek <- poker_vector[c(2,3,4)]\nprint(poker_midweek)",
      "execution_count": 43,
      "outputs": [
        {
          "output_type": "stream",
          "text": "  Tuesday Wednesday  Thursday \n      -50        20      -120 \n",
          "name": "stdout"
        }
      ]
    },
    {
      "metadata": {
        "trusted": true
      },
      "cell_type": "code",
      "source": "print(poker_vector[2:4])",
      "execution_count": 45,
      "outputs": [
        {
          "output_type": "stream",
          "text": "  Tuesday Wednesday  Thursday \n      -50        20      -120 \n",
          "name": "stdout"
        }
      ]
    },
    {
      "metadata": {
        "trusted": true
      },
      "cell_type": "code",
      "source": "# Define a new variable based on a selection\nroulette_selection_vector <- roulette_vector[2:5]\nprint(roulette_selection_vector)",
      "execution_count": 47,
      "outputs": [
        {
          "output_type": "stream",
          "text": "  Tuesday Wednesday  Thursday    Friday \n      -50       100      -350        10 \n",
          "name": "stdout"
        }
      ]
    },
    {
      "metadata": {
        "trusted": true
      },
      "cell_type": "code",
      "source": "# Select poker results for Monday, Tuesday and Wednesday\npoker_start <- poker_vector[c(\"Monday\", \"Tuesday\", \"Wednesday\")]\nprint(poker_start)\n\n# Calculate the average of the elements in poker_start\nprint(mean(poker_start))\n\nprint(poker_vector > 0)\n\nprint(mean(poker_vector))",
      "execution_count": 49,
      "outputs": [
        {
          "output_type": "stream",
          "text": "   Monday   Tuesday Wednesday \n      140       -50        20 \n[1] 36.66667\n   Monday   Tuesday Wednesday  Thursday    Friday \n     TRUE     FALSE      TRUE     FALSE      TRUE \n[1] 46\n",
          "name": "stdout"
        }
      ]
    },
    {
      "metadata": {
        "trusted": true
      },
      "cell_type": "code",
      "source": "# Which days did you make money on poker?\nselection_vector <- poker_vector >0\n  \n# Print out selection_vector\nprint(selection_vector)",
      "execution_count": 50,
      "outputs": [
        {
          "output_type": "stream",
          "text": "   Monday   Tuesday Wednesday  Thursday    Friday \n     TRUE     FALSE      TRUE     FALSE      TRUE \n",
          "name": "stdout"
        }
      ]
    },
    {
      "metadata": {
        "trusted": true
      },
      "cell_type": "code",
      "source": "# Select from poker_vector these days\npoker_winning_days <- poker_vector[selection_vector]\nprint(poker_winning_days)",
      "execution_count": 51,
      "outputs": [
        {
          "output_type": "stream",
          "text": "   Monday Wednesday    Friday \n      140        20       240 \n",
          "name": "stdout"
        }
      ]
    },
    {
      "metadata": {
        "trusted": true
      },
      "cell_type": "code",
      "source": "# Which days did you make money on roulette?\nselection_vector <- roulette_vector > 0\nprint(roulette_vector)\n# Select from roulette_vector these days\nroulette_winning_days <- roulette_vector[selection_vector]\nprint(roulette_winning_days)",
      "execution_count": 55,
      "outputs": [
        {
          "output_type": "stream",
          "text": "   Monday   Tuesday Wednesday  Thursday    Friday \n      -24       -50       100      -350        10 \nWednesday    Friday \n      100        10 \n",
          "name": "stdout"
        }
      ]
    }
  ],
  "metadata": {
    "kernelspec": {
      "name": "r",
      "display_name": "R",
      "language": "R"
    },
    "language_info": {
      "mimetype": "text/x-r-source",
      "name": "R",
      "pygments_lexer": "r",
      "version": "3.5.3",
      "file_extension": ".r",
      "codemirror_mode": "r"
    }
  },
  "nbformat": 4,
  "nbformat_minor": 2
}