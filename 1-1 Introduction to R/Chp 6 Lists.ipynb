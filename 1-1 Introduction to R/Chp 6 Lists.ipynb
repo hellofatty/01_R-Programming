{
 "cells": [
  {
   "cell_type": "markdown",
   "metadata": {},
   "source": [
    "# Chp 6 Lists\n",
    "\n",
    "As opposed to vectors, lists can hold components of **different types**, just as your to-do lists can contain different categories of tasks. This chapter will teach you how to create, name, and subset these lists."
   ]
  },
  {
   "cell_type": "markdown",
   "metadata": {},
   "source": [
    "<a id=\"top\"></a>\n",
    "### Table of Contents\n",
    "\n",
    "- [Lists, why would you need them?](#6-1)\n",
    "- [Lists, why would you need them? (2)](#6-2)\n",
    "- [Creating a list](#6-3)\n",
    "- [Creating a named list](#6-4)\n",
    "- [Creating a named list(2)](#6-5)\n",
    "- [Selecting elements from a list](#6-6)\n",
    "- [Creating a new list for another movie](#6-7)\n"
   ]
  },
  {
   "cell_type": "markdown",
   "metadata": {},
   "source": [
    "<a id=\"6-1\"></a>\n",
    "## Lists, why would you need them?\n",
    "Congratulations! At this point in the course you are already familiar with:\n",
    "\n",
    "- **Vectors** (one dimensional array): can hold numeric, character or logical values. The elements in a vector all have the same data type.\n",
    "- **Matrices** (two dimensional array): can hold numeric, character or logical values. The elements in a matrix all have the same data type.\n",
    "- **Data frames** (two-dimensional objects): can hold numeric, character or logical values. Within a column all elements have the same data type, but different columns can be of different data type.\n",
    "\n",
    "Pretty sweet for an R newbie, right? ;-)<br>\n",
    "\n",
    "[Go Top](#top)"
   ]
  },
  {
   "cell_type": "markdown",
   "metadata": {},
   "source": [
    "<a id=\"6-2\"></a>\n",
    "## Lists, why would you need them? (2)\n",
    "\n",
    "A **list** in R is similar to your to-do list at work or school: the different items on that list most likely differ in length, characteristic, and type of activity that has to be done.\n",
    "\n",
    "A list in R allows you to gather a variety of objects under one name (that is, the name of the list) in an ordered way. These objects can be matrices, vectors, data frames, even other lists, etc. It is not even required that these objects are related to each other in any way.\n",
    "\n",
    "You could say that a list is some kind super data type: you can store practically any piece of information in it!"
   ]
  },
  {
   "cell_type": "markdown",
   "metadata": {},
   "source": [
    "[Go Top](#top)\n",
    "<a id=\"6-3\"></a>\n",
    "## Creating a list\n",
    "Let us create our first list! To construct a list you use the function [**list()**](https://www.rdocumentation.org/packages/base/versions/3.6.2/topics/list):\n",
    "\n",
    "> `my_list <- list(comp1, comp2 ...)`\n",
    "\n",
    "The arguments to the list function are the list components. Remember, these components can be matrices, vectors, other lists, ...\n"
   ]
  },
  {
   "cell_type": "code",
   "execution_count": null,
   "metadata": {},
   "outputs": [],
   "source": [
    "mtcars\n",
    "\n",
    "# Vector with numerics from 1 up to 10\n",
    "my_vector <- 1:10 \n",
    "print(my_vector)\n",
    "\n",
    "# Matrix with numerics from 1 up to 9\n",
    "my_matrix <- matrix(1:9, ncol = 3)\n",
    "my_matrix\n",
    "print(my_matrix)\n",
    "\n",
    "# First 10 elements of the built-in data frame mtcars\n",
    "my_df <- mtcars[1:10,]\n",
    "print(my_df)\n"
   ]
  },
  {
   "cell_type": "markdown",
   "metadata": {},
   "source": [
    "**Instructions**\n",
    "Construct a list, named `my_list`, that contains the variables `my_vector`, `my_matrix` and `my_df` as list components."
   ]
  },
  {
   "cell_type": "code",
   "execution_count": null,
   "metadata": {},
   "outputs": [],
   "source": [
    "# Construct list with these different elements:\n",
    "my_list <-list(my_vector, my_matrix,my_df)\n",
    "print(my_list)"
   ]
  },
  {
   "cell_type": "markdown",
   "metadata": {},
   "source": [
    "<a id=\"6-4\"></a>\n",
    "[Go Top](#top)\n",
    "## Creating a named list\n",
    "Well done, you're on a roll!\n",
    "\n",
    "Just like on your to-do list, you want to avoid not knowing or remembering what the components of your list stand for. That is why you should give names to them:\n",
    "\n",
    "> `my_list <- list(name1 = your_comp1,` <br>\n",
    "                `name2 = your_comp2)`\n",
    "\n",
    "This creates a list with components that are named `name1`, `name2`, and so on. If you want to name your lists after you've created them, you can use the `names()` function as you did with vectors. The following commands are fully equivalent to the assignment above:\n",
    "\n",
    "> `my_list <- list(your_comp1, your_comp2)`<br>\n",
    "`names(my_list) <- c(\"name1\", \"name2\")`"
   ]
  },
  {
   "cell_type": "code",
   "execution_count": null,
   "metadata": {},
   "outputs": [],
   "source": [
    "my_list <- list(\"vec\"=my_vector, \"mat\"=my_matrix, \"df\"=my_df)\n",
    "# Print out my_list\n",
    "my_list"
   ]
  },
  {
   "cell_type": "code",
   "execution_count": null,
   "metadata": {},
   "outputs": [],
   "source": [
    "names(my_list) <- c(\"vec\", \"mat\", \"df\")\n",
    "# Print out my_list\n",
    "my_list"
   ]
  },
  {
   "cell_type": "markdown",
   "metadata": {},
   "source": [
    "<a id=\"6-5\"></a>\n",
    "## Creating a named list (2)\n",
    "Being a huge movie fan (remember your job at LucasFilms), you decide to start storing information on good movies with the help of lists.\n",
    "\n",
    "Start by creating a list for the movie \"The Shining\". We have already created the variables `mov`, `act` and `rev` in your R workspace. Feel free to check them out in the console.\n",
    "\n",
    "Complete the code on the right to create shining_list; it contains three elements:\n",
    "\n",
    "- moviename: a character string with the movie title (stored in mov)\n",
    "- actors: a vector with the main actors' names (stored in act)\n",
    "- reviews: a data frame that contains some reviews (stored in rev)\n",
    "\n",
    "Do not forget to name the list components accordingly (names are moviename, actors and reviews).\n",
    "\n",
    "[Go Top](#top)"
   ]
  },
  {
   "cell_type": "code",
   "execution_count": null,
   "metadata": {},
   "outputs": [],
   "source": [
    "# create a character (string) to store the movie title: mov\n",
    "mov = \"The Shining\"\n",
    "mov\n",
    "\n",
    "# create a vector to store the names of main actors in the movie: act\n",
    "act = c(\"Jack Nicholson\", \"Shelley Duvall\", \"Danny Lloyd\", \"Scatman Crothers\", \"Barry Nelson\")\n",
    "act\n",
    "\n",
    "# create a dataframe to store some review comments: rev\n",
    "scores = c(4.5, 4.0, 5.0)\n",
    "sources = c(\"IMDb1\", \"IMDB2\", \"IMDB3\")\n",
    "comments = c(\"Best Horror Film I Have Ever Seen\", \"A truly brilliant and scary film from Stanley Kubrick\", \n",
    "            \"A masterpiece of psychological horror\")\n",
    "\n",
    "rev = data.frame(scores, sources, comments)\n",
    "\n",
    "rev"
   ]
  },
  {
   "cell_type": "code",
   "execution_count": null,
   "metadata": {},
   "outputs": [],
   "source": [
    "# Finish the code to build shining_list\n",
    "shining_list <- list(moviename = mov, actors = act, reviews =rev)\n",
    "shining_list"
   ]
  },
  {
   "cell_type": "markdown",
   "metadata": {},
   "source": [
    "<a id=\"6-6\"></a>\n",
    "## Selecting elements from a list\n",
    "Your list will often be built out of numerous elements and components. Therefore, getting a single element, multiple elements, or a component out of it is not always straightforward.\n",
    "\n",
    "One way to select a component is using the numbered position of that component. For example, to \"grab\" the first component of `shining_list` you type\n",
    "\n",
    "> `shining_list[[1]]`\n",
    "\n",
    "A quick way to check this out is typing it in the console. Important to remember: to select elements from vectors, you use single square brackets: `[ ]`. Don't mix them up!\n",
    "\n",
    "You can also refer to the names of the components, with `[[ ]]` or with the `$` sign. Both will select the data frame representing the reviews:\n",
    "\n",
    "> `shining_list[[\"reviews\"]]`<br>\n",
    "> `shining_list$reviews`\n",
    "\n",
    "Besides selecting components, you often need to select specific elements out of these components. For example, with `shining_list[[2]][1]` you select from the second component, actors (`shining_list[[2]]`), the first element (`[1]`). When you type this in the console, you will see the answer is Jack Nicholson.\n",
    "\n",
    "[Go Top](#top)"
   ]
  },
  {
   "cell_type": "markdown",
   "metadata": {},
   "source": [
    "**Instructions**\n",
    "- Select from `shining_list` the vector representing the actors. Simply print out this vector.\n",
    "- Select from `shining_list` the second element in the vector representing the actors. Do a printout like before."
   ]
  },
  {
   "cell_type": "code",
   "execution_count": null,
   "metadata": {},
   "outputs": [],
   "source": [
    "# Print out the vector representing the actors\n",
    "shining_list[[2]]\n",
    "\n",
    "# Print the second element of the vector representing the actors\n",
    "shining_list$actors[2]"
   ]
  },
  {
   "cell_type": "markdown",
   "metadata": {},
   "source": [
    "<a id=\"6-7\"></a>\n",
    "## Creating a new list for another movie\n",
    "\n",
    "You found reviews of another, more recent, Jack Nicholson movie: The Departed!\n",
    "    \n",
    "| **Scores**  | **Comments**  |\n",
    "|---|---|\n",
    "| 4.6  |  I would watch it again |\n",
    "|  5 |  Amazing! |\n",
    "|  4.8 | I liked it  |\n",
    "|  5 | One of the best movies  |\n",
    "|  4.2 | Fascinating plot  |\n",
    "\n",
    "It would be useful to collect together all the pieces of information about the movie, like the title, actors, and reviews into a single variable. Since these pieces of data are different shapes, it is natural to combine them in a list variable.\n",
    "\n",
    "`movie_title`, containing the title of the movie, and `movie_actors`, containing the names of some of the actors in the movie, are available in your workspace.\n",
    "\n",
    "[Go Top](#top)"
   ]
  },
  {
   "cell_type": "markdown",
   "metadata": {},
   "source": [
    "** Instructions**\n",
    "- Create two vectors, called `scores` and `comments`, that contain the information from the reviews shown in the table.\n",
    "- Find the average of the scores vector and save it as `avg_review`.\n",
    "- Combine the `scores` and `comments` vectors into a data frame called `reviews_df`.\n",
    "- Create a list, called `departed_list`, that contains the `movie_title`, `movie_actors`, reviews data frame as `reviews_df`, and the average review score as `avg_review`, and print it out."
   ]
  },
  {
   "cell_type": "code",
   "execution_count": null,
   "metadata": {},
   "outputs": [],
   "source": [
    "movie_title = \"The Departed\"\n",
    "\n",
    "movie_actors = c(\"Leonardo DiCaprio\", \"Matt Damon\", \"Jack Nicholson\",\"Mark Wahlberg\", \"Vera Farmiga\", \"Martin Sheen\")\n",
    "\n",
    "# Use the table from the exercise to define the comments and scores vectors\n",
    "scores <- c(4.6, 5, 4.8, 5, 4.2)\n",
    "comments <- c(\"I would watch it again\", \"Amazing!\", \"I liked it\", \"One of the best movies\", \n",
    "              \"Fascinating plot\") \n",
    "\n",
    "# Save the average of the scores vector as avg_review  \n",
    "avg_review = mean(scores)\n",
    "\n",
    "# Combine scores and comments into the reviews_df data frame\n",
    "reviews_df = data.frame(scores, comments)\n",
    "\n",
    "# Create and print out a list, called departed_list\n",
    "\n",
    "departed_list = list(Movie_title = movie_title, Movie_actors = movie_actors, Review_comments = reviews_df, Average_review_scores = avg_review)\n",
    "departed_list"
   ]
  },
  {
   "cell_type": "code",
   "execution_count": null,
   "metadata": {},
   "outputs": [],
   "source": []
  }
 ],
 "metadata": {
  "kernelspec": {
   "display_name": "R",
   "language": "R",
   "name": "ir"
  },
  "language_info": {
   "codemirror_mode": "r",
   "file_extension": ".r",
   "mimetype": "text/x-r-source",
   "name": "R",
   "pygments_lexer": "r",
   "version": "3.6.1"
  }
 },
 "nbformat": 4,
 "nbformat_minor": 4
}
